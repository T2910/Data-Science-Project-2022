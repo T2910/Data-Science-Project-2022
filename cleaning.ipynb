{
  "cells": [
    {
      "cell_type": "code",
      "execution_count": null,
      "metadata": {
        "id": "025b9060"
      },
      "outputs": [],
      "source": [
        "import pandas as pd\n",
        "import numpy as np"
      ],
      "id": "025b9060"
    },
    {
      "cell_type": "code",
      "execution_count": null,
      "metadata": {
        "id": "5ee7b9a6",
        "colab": {
          "base_uri": "https://localhost:8080/",
          "height": 403
        },
        "outputId": "5f842ee5-3ad5-4a1a-fdb2-44a5a1df0da4"
      },
      "outputs": [
        {
          "output_type": "execute_result",
          "data": {
            "text/plain": [
              "   Unnamed: 0    mood  age  gender      subject  semester  sibilings  \\\n",
              "0           0  Tensed   24  Female  Engineering         9          3   \n",
              "1           1  Tensed   23    Male  Engineering        11          3   \n",
              "2           2     Sad   19  Female     Pharmacy         3          0   \n",
              "3           3    Lost   23  Female  Engineering        13          1   \n",
              "4           4    Lost   22    Male  Engineering        11          1   \n",
              "\n",
              "        living employment personality  ...    exercise  meditation  \\\n",
              "0  With family  Part time   Extrovert  ...  Not at all  Not at all   \n",
              "1  With family       None    Ambivert  ...   Regularly   Sometimes   \n",
              "2  With family       None    Ambivert  ...   Sometimes  Not at all   \n",
              "3  With family       None   Introvert  ...  Not at all  Not at all   \n",
              "4  With family       None    Ambivert  ...   Sometimes  Not at all   \n",
              "\n",
              "  video_games study_hours phone_hours medication  movies_per_week  \\\n",
              "0  Not at all           2      6 to 8         No                0   \n",
              "1   Sometimes           4      0 to 2         No                5   \n",
              "2  Not at all           3      6 to 8         No                0   \n",
              "3  Very Often           1      0 to 2         No                5   \n",
              "4  Very Often           2      6 to 8         No                1   \n",
              "\n",
              "   music hours  depression  category  \n",
              "0            0          18  Moderate  \n",
              "1            0           1      None  \n",
              "2            0          21    Severe  \n",
              "3            0          23    Severe  \n",
              "4            4          19  Moderate  \n",
              "\n",
              "[5 rows x 35 columns]"
            ],
            "text/html": [
              "\n",
              "  <div id=\"df-9b6cf1ea-83dc-4d02-9e30-5d2e406bca77\">\n",
              "    <div class=\"colab-df-container\">\n",
              "      <div>\n",
              "<style scoped>\n",
              "    .dataframe tbody tr th:only-of-type {\n",
              "        vertical-align: middle;\n",
              "    }\n",
              "\n",
              "    .dataframe tbody tr th {\n",
              "        vertical-align: top;\n",
              "    }\n",
              "\n",
              "    .dataframe thead th {\n",
              "        text-align: right;\n",
              "    }\n",
              "</style>\n",
              "<table border=\"1\" class=\"dataframe\">\n",
              "  <thead>\n",
              "    <tr style=\"text-align: right;\">\n",
              "      <th></th>\n",
              "      <th>Unnamed: 0</th>\n",
              "      <th>mood</th>\n",
              "      <th>age</th>\n",
              "      <th>gender</th>\n",
              "      <th>subject</th>\n",
              "      <th>semester</th>\n",
              "      <th>sibilings</th>\n",
              "      <th>living</th>\n",
              "      <th>employment</th>\n",
              "      <th>personality</th>\n",
              "      <th>...</th>\n",
              "      <th>exercise</th>\n",
              "      <th>meditation</th>\n",
              "      <th>video_games</th>\n",
              "      <th>study_hours</th>\n",
              "      <th>phone_hours</th>\n",
              "      <th>medication</th>\n",
              "      <th>movies_per_week</th>\n",
              "      <th>music hours</th>\n",
              "      <th>depression</th>\n",
              "      <th>category</th>\n",
              "    </tr>\n",
              "  </thead>\n",
              "  <tbody>\n",
              "    <tr>\n",
              "      <th>0</th>\n",
              "      <td>0</td>\n",
              "      <td>Tensed</td>\n",
              "      <td>24</td>\n",
              "      <td>Female</td>\n",
              "      <td>Engineering</td>\n",
              "      <td>9</td>\n",
              "      <td>3</td>\n",
              "      <td>With family</td>\n",
              "      <td>Part time</td>\n",
              "      <td>Extrovert</td>\n",
              "      <td>...</td>\n",
              "      <td>Not at all</td>\n",
              "      <td>Not at all</td>\n",
              "      <td>Not at all</td>\n",
              "      <td>2</td>\n",
              "      <td>6 to 8</td>\n",
              "      <td>No</td>\n",
              "      <td>0</td>\n",
              "      <td>0</td>\n",
              "      <td>18</td>\n",
              "      <td>Moderate</td>\n",
              "    </tr>\n",
              "    <tr>\n",
              "      <th>1</th>\n",
              "      <td>1</td>\n",
              "      <td>Tensed</td>\n",
              "      <td>23</td>\n",
              "      <td>Male</td>\n",
              "      <td>Engineering</td>\n",
              "      <td>11</td>\n",
              "      <td>3</td>\n",
              "      <td>With family</td>\n",
              "      <td>None</td>\n",
              "      <td>Ambivert</td>\n",
              "      <td>...</td>\n",
              "      <td>Regularly</td>\n",
              "      <td>Sometimes</td>\n",
              "      <td>Sometimes</td>\n",
              "      <td>4</td>\n",
              "      <td>0 to 2</td>\n",
              "      <td>No</td>\n",
              "      <td>5</td>\n",
              "      <td>0</td>\n",
              "      <td>1</td>\n",
              "      <td>None</td>\n",
              "    </tr>\n",
              "    <tr>\n",
              "      <th>2</th>\n",
              "      <td>2</td>\n",
              "      <td>Sad</td>\n",
              "      <td>19</td>\n",
              "      <td>Female</td>\n",
              "      <td>Pharmacy</td>\n",
              "      <td>3</td>\n",
              "      <td>0</td>\n",
              "      <td>With family</td>\n",
              "      <td>None</td>\n",
              "      <td>Ambivert</td>\n",
              "      <td>...</td>\n",
              "      <td>Sometimes</td>\n",
              "      <td>Not at all</td>\n",
              "      <td>Not at all</td>\n",
              "      <td>3</td>\n",
              "      <td>6 to 8</td>\n",
              "      <td>No</td>\n",
              "      <td>0</td>\n",
              "      <td>0</td>\n",
              "      <td>21</td>\n",
              "      <td>Severe</td>\n",
              "    </tr>\n",
              "    <tr>\n",
              "      <th>3</th>\n",
              "      <td>3</td>\n",
              "      <td>Lost</td>\n",
              "      <td>23</td>\n",
              "      <td>Female</td>\n",
              "      <td>Engineering</td>\n",
              "      <td>13</td>\n",
              "      <td>1</td>\n",
              "      <td>With family</td>\n",
              "      <td>None</td>\n",
              "      <td>Introvert</td>\n",
              "      <td>...</td>\n",
              "      <td>Not at all</td>\n",
              "      <td>Not at all</td>\n",
              "      <td>Very Often</td>\n",
              "      <td>1</td>\n",
              "      <td>0 to 2</td>\n",
              "      <td>No</td>\n",
              "      <td>5</td>\n",
              "      <td>0</td>\n",
              "      <td>23</td>\n",
              "      <td>Severe</td>\n",
              "    </tr>\n",
              "    <tr>\n",
              "      <th>4</th>\n",
              "      <td>4</td>\n",
              "      <td>Lost</td>\n",
              "      <td>22</td>\n",
              "      <td>Male</td>\n",
              "      <td>Engineering</td>\n",
              "      <td>11</td>\n",
              "      <td>1</td>\n",
              "      <td>With family</td>\n",
              "      <td>None</td>\n",
              "      <td>Ambivert</td>\n",
              "      <td>...</td>\n",
              "      <td>Sometimes</td>\n",
              "      <td>Not at all</td>\n",
              "      <td>Very Often</td>\n",
              "      <td>2</td>\n",
              "      <td>6 to 8</td>\n",
              "      <td>No</td>\n",
              "      <td>1</td>\n",
              "      <td>4</td>\n",
              "      <td>19</td>\n",
              "      <td>Moderate</td>\n",
              "    </tr>\n",
              "  </tbody>\n",
              "</table>\n",
              "<p>5 rows × 35 columns</p>\n",
              "</div>\n",
              "      <button class=\"colab-df-convert\" onclick=\"convertToInteractive('df-9b6cf1ea-83dc-4d02-9e30-5d2e406bca77')\"\n",
              "              title=\"Convert this dataframe to an interactive table.\"\n",
              "              style=\"display:none;\">\n",
              "        \n",
              "  <svg xmlns=\"http://www.w3.org/2000/svg\" height=\"24px\"viewBox=\"0 0 24 24\"\n",
              "       width=\"24px\">\n",
              "    <path d=\"M0 0h24v24H0V0z\" fill=\"none\"/>\n",
              "    <path d=\"M18.56 5.44l.94 2.06.94-2.06 2.06-.94-2.06-.94-.94-2.06-.94 2.06-2.06.94zm-11 1L8.5 8.5l.94-2.06 2.06-.94-2.06-.94L8.5 2.5l-.94 2.06-2.06.94zm10 10l.94 2.06.94-2.06 2.06-.94-2.06-.94-.94-2.06-.94 2.06-2.06.94z\"/><path d=\"M17.41 7.96l-1.37-1.37c-.4-.4-.92-.59-1.43-.59-.52 0-1.04.2-1.43.59L10.3 9.45l-7.72 7.72c-.78.78-.78 2.05 0 2.83L4 21.41c.39.39.9.59 1.41.59.51 0 1.02-.2 1.41-.59l7.78-7.78 2.81-2.81c.8-.78.8-2.07 0-2.86zM5.41 20L4 18.59l7.72-7.72 1.47 1.35L5.41 20z\"/>\n",
              "  </svg>\n",
              "      </button>\n",
              "      \n",
              "  <style>\n",
              "    .colab-df-container {\n",
              "      display:flex;\n",
              "      flex-wrap:wrap;\n",
              "      gap: 12px;\n",
              "    }\n",
              "\n",
              "    .colab-df-convert {\n",
              "      background-color: #E8F0FE;\n",
              "      border: none;\n",
              "      border-radius: 50%;\n",
              "      cursor: pointer;\n",
              "      display: none;\n",
              "      fill: #1967D2;\n",
              "      height: 32px;\n",
              "      padding: 0 0 0 0;\n",
              "      width: 32px;\n",
              "    }\n",
              "\n",
              "    .colab-df-convert:hover {\n",
              "      background-color: #E2EBFA;\n",
              "      box-shadow: 0px 1px 2px rgba(60, 64, 67, 0.3), 0px 1px 3px 1px rgba(60, 64, 67, 0.15);\n",
              "      fill: #174EA6;\n",
              "    }\n",
              "\n",
              "    [theme=dark] .colab-df-convert {\n",
              "      background-color: #3B4455;\n",
              "      fill: #D2E3FC;\n",
              "    }\n",
              "\n",
              "    [theme=dark] .colab-df-convert:hover {\n",
              "      background-color: #434B5C;\n",
              "      box-shadow: 0px 1px 3px 1px rgba(0, 0, 0, 0.15);\n",
              "      filter: drop-shadow(0px 1px 2px rgba(0, 0, 0, 0.3));\n",
              "      fill: #FFFFFF;\n",
              "    }\n",
              "  </style>\n",
              "\n",
              "      <script>\n",
              "        const buttonEl =\n",
              "          document.querySelector('#df-9b6cf1ea-83dc-4d02-9e30-5d2e406bca77 button.colab-df-convert');\n",
              "        buttonEl.style.display =\n",
              "          google.colab.kernel.accessAllowed ? 'block' : 'none';\n",
              "\n",
              "        async function convertToInteractive(key) {\n",
              "          const element = document.querySelector('#df-9b6cf1ea-83dc-4d02-9e30-5d2e406bca77');\n",
              "          const dataTable =\n",
              "            await google.colab.kernel.invokeFunction('convertToInteractive',\n",
              "                                                     [key], {});\n",
              "          if (!dataTable) return;\n",
              "\n",
              "          const docLinkHtml = 'Like what you see? Visit the ' +\n",
              "            '<a target=\"_blank\" href=https://colab.research.google.com/notebooks/data_table.ipynb>data table notebook</a>'\n",
              "            + ' to learn more about interactive tables.';\n",
              "          element.innerHTML = '';\n",
              "          dataTable['output_type'] = 'display_data';\n",
              "          await google.colab.output.renderOutput(dataTable, element);\n",
              "          const docLink = document.createElement('div');\n",
              "          docLink.innerHTML = docLinkHtml;\n",
              "          element.appendChild(docLink);\n",
              "        }\n",
              "      </script>\n",
              "    </div>\n",
              "  </div>\n",
              "  "
            ]
          },
          "metadata": {},
          "execution_count": 15
        }
      ],
      "source": [
        "#df = pd.read_csv(r'C:\\Users\\Tianx\\Desktop\\Master\\ss22_ds\\depression.csv')\n",
        "df = pd.read_csv(r'/content/data_clean_hobbies-hangout.csv') #Tian\n",
        "#dfh =pd.read_csv(r'/content/data_clean_hobbies-hangout.csv')\n",
        "#df = pd.read_csv(r'/content/ds_data2022/depression.csv') #Emma\n",
        "df.head()"
      ],
      "id": "5ee7b9a6"
    },
    {
      "cell_type": "code",
      "source": [
        "df.head()"
      ],
      "metadata": {
        "colab": {
          "base_uri": "https://localhost:8080/",
          "height": 403
        },
        "id": "ErB1oPD2ZZi9",
        "outputId": "d2297d6b-4010-4292-9295-32e8648a6254"
      },
      "id": "ErB1oPD2ZZi9",
      "execution_count": null,
      "outputs": [
        {
          "output_type": "execute_result",
          "data": {
            "text/plain": [
              "   Unnamed: 0    mood  age  gender      subject  semester  sibilings  \\\n",
              "0           0  Tensed   24  Female  Engineering         9          3   \n",
              "1           1  Tensed   23    Male  Engineering        11          3   \n",
              "2           2     Sad   19  Female     Pharmacy         3          0   \n",
              "3           3    Lost   23  Female  Engineering        13          1   \n",
              "4           4    Lost   22    Male  Engineering        11          1   \n",
              "\n",
              "        living employment personality  ...    exercise  meditation  \\\n",
              "0  With family  Part time   Extrovert  ...  Not at all  Not at all   \n",
              "1  With family       None    Ambivert  ...   Regularly   Sometimes   \n",
              "2  With family       None    Ambivert  ...   Sometimes  Not at all   \n",
              "3  With family       None   Introvert  ...  Not at all  Not at all   \n",
              "4  With family       None    Ambivert  ...   Sometimes  Not at all   \n",
              "\n",
              "  video_games study_hours phone_hours medication  movies_per_week  \\\n",
              "0  Not at all           2      6 to 8         No                0   \n",
              "1   Sometimes           4      0 to 2         No                5   \n",
              "2  Not at all           3      6 to 8         No                0   \n",
              "3  Very Often           1      0 to 2         No                5   \n",
              "4  Very Often           2      6 to 8         No                1   \n",
              "\n",
              "   music hours  depression  category  \n",
              "0            0          18  Moderate  \n",
              "1            0           1      None  \n",
              "2            0          21    Severe  \n",
              "3            0          23    Severe  \n",
              "4            4          19  Moderate  \n",
              "\n",
              "[5 rows x 35 columns]"
            ],
            "text/html": [
              "\n",
              "  <div id=\"df-8db5161b-a585-47bf-880f-ae318f444305\">\n",
              "    <div class=\"colab-df-container\">\n",
              "      <div>\n",
              "<style scoped>\n",
              "    .dataframe tbody tr th:only-of-type {\n",
              "        vertical-align: middle;\n",
              "    }\n",
              "\n",
              "    .dataframe tbody tr th {\n",
              "        vertical-align: top;\n",
              "    }\n",
              "\n",
              "    .dataframe thead th {\n",
              "        text-align: right;\n",
              "    }\n",
              "</style>\n",
              "<table border=\"1\" class=\"dataframe\">\n",
              "  <thead>\n",
              "    <tr style=\"text-align: right;\">\n",
              "      <th></th>\n",
              "      <th>Unnamed: 0</th>\n",
              "      <th>mood</th>\n",
              "      <th>age</th>\n",
              "      <th>gender</th>\n",
              "      <th>subject</th>\n",
              "      <th>semester</th>\n",
              "      <th>sibilings</th>\n",
              "      <th>living</th>\n",
              "      <th>employment</th>\n",
              "      <th>personality</th>\n",
              "      <th>...</th>\n",
              "      <th>exercise</th>\n",
              "      <th>meditation</th>\n",
              "      <th>video_games</th>\n",
              "      <th>study_hours</th>\n",
              "      <th>phone_hours</th>\n",
              "      <th>medication</th>\n",
              "      <th>movies_per_week</th>\n",
              "      <th>music hours</th>\n",
              "      <th>depression</th>\n",
              "      <th>category</th>\n",
              "    </tr>\n",
              "  </thead>\n",
              "  <tbody>\n",
              "    <tr>\n",
              "      <th>0</th>\n",
              "      <td>0</td>\n",
              "      <td>Tensed</td>\n",
              "      <td>24</td>\n",
              "      <td>Female</td>\n",
              "      <td>Engineering</td>\n",
              "      <td>9</td>\n",
              "      <td>3</td>\n",
              "      <td>With family</td>\n",
              "      <td>Part time</td>\n",
              "      <td>Extrovert</td>\n",
              "      <td>...</td>\n",
              "      <td>Not at all</td>\n",
              "      <td>Not at all</td>\n",
              "      <td>Not at all</td>\n",
              "      <td>2</td>\n",
              "      <td>6 to 8</td>\n",
              "      <td>No</td>\n",
              "      <td>0</td>\n",
              "      <td>0</td>\n",
              "      <td>18</td>\n",
              "      <td>Moderate</td>\n",
              "    </tr>\n",
              "    <tr>\n",
              "      <th>1</th>\n",
              "      <td>1</td>\n",
              "      <td>Tensed</td>\n",
              "      <td>23</td>\n",
              "      <td>Male</td>\n",
              "      <td>Engineering</td>\n",
              "      <td>11</td>\n",
              "      <td>3</td>\n",
              "      <td>With family</td>\n",
              "      <td>None</td>\n",
              "      <td>Ambivert</td>\n",
              "      <td>...</td>\n",
              "      <td>Regularly</td>\n",
              "      <td>Sometimes</td>\n",
              "      <td>Sometimes</td>\n",
              "      <td>4</td>\n",
              "      <td>0 to 2</td>\n",
              "      <td>No</td>\n",
              "      <td>5</td>\n",
              "      <td>0</td>\n",
              "      <td>1</td>\n",
              "      <td>None</td>\n",
              "    </tr>\n",
              "    <tr>\n",
              "      <th>2</th>\n",
              "      <td>2</td>\n",
              "      <td>Sad</td>\n",
              "      <td>19</td>\n",
              "      <td>Female</td>\n",
              "      <td>Pharmacy</td>\n",
              "      <td>3</td>\n",
              "      <td>0</td>\n",
              "      <td>With family</td>\n",
              "      <td>None</td>\n",
              "      <td>Ambivert</td>\n",
              "      <td>...</td>\n",
              "      <td>Sometimes</td>\n",
              "      <td>Not at all</td>\n",
              "      <td>Not at all</td>\n",
              "      <td>3</td>\n",
              "      <td>6 to 8</td>\n",
              "      <td>No</td>\n",
              "      <td>0</td>\n",
              "      <td>0</td>\n",
              "      <td>21</td>\n",
              "      <td>Severe</td>\n",
              "    </tr>\n",
              "    <tr>\n",
              "      <th>3</th>\n",
              "      <td>3</td>\n",
              "      <td>Lost</td>\n",
              "      <td>23</td>\n",
              "      <td>Female</td>\n",
              "      <td>Engineering</td>\n",
              "      <td>13</td>\n",
              "      <td>1</td>\n",
              "      <td>With family</td>\n",
              "      <td>None</td>\n",
              "      <td>Introvert</td>\n",
              "      <td>...</td>\n",
              "      <td>Not at all</td>\n",
              "      <td>Not at all</td>\n",
              "      <td>Very Often</td>\n",
              "      <td>1</td>\n",
              "      <td>0 to 2</td>\n",
              "      <td>No</td>\n",
              "      <td>5</td>\n",
              "      <td>0</td>\n",
              "      <td>23</td>\n",
              "      <td>Severe</td>\n",
              "    </tr>\n",
              "    <tr>\n",
              "      <th>4</th>\n",
              "      <td>4</td>\n",
              "      <td>Lost</td>\n",
              "      <td>22</td>\n",
              "      <td>Male</td>\n",
              "      <td>Engineering</td>\n",
              "      <td>11</td>\n",
              "      <td>1</td>\n",
              "      <td>With family</td>\n",
              "      <td>None</td>\n",
              "      <td>Ambivert</td>\n",
              "      <td>...</td>\n",
              "      <td>Sometimes</td>\n",
              "      <td>Not at all</td>\n",
              "      <td>Very Often</td>\n",
              "      <td>2</td>\n",
              "      <td>6 to 8</td>\n",
              "      <td>No</td>\n",
              "      <td>1</td>\n",
              "      <td>4</td>\n",
              "      <td>19</td>\n",
              "      <td>Moderate</td>\n",
              "    </tr>\n",
              "  </tbody>\n",
              "</table>\n",
              "<p>5 rows × 35 columns</p>\n",
              "</div>\n",
              "      <button class=\"colab-df-convert\" onclick=\"convertToInteractive('df-8db5161b-a585-47bf-880f-ae318f444305')\"\n",
              "              title=\"Convert this dataframe to an interactive table.\"\n",
              "              style=\"display:none;\">\n",
              "        \n",
              "  <svg xmlns=\"http://www.w3.org/2000/svg\" height=\"24px\"viewBox=\"0 0 24 24\"\n",
              "       width=\"24px\">\n",
              "    <path d=\"M0 0h24v24H0V0z\" fill=\"none\"/>\n",
              "    <path d=\"M18.56 5.44l.94 2.06.94-2.06 2.06-.94-2.06-.94-.94-2.06-.94 2.06-2.06.94zm-11 1L8.5 8.5l.94-2.06 2.06-.94-2.06-.94L8.5 2.5l-.94 2.06-2.06.94zm10 10l.94 2.06.94-2.06 2.06-.94-2.06-.94-.94-2.06-.94 2.06-2.06.94z\"/><path d=\"M17.41 7.96l-1.37-1.37c-.4-.4-.92-.59-1.43-.59-.52 0-1.04.2-1.43.59L10.3 9.45l-7.72 7.72c-.78.78-.78 2.05 0 2.83L4 21.41c.39.39.9.59 1.41.59.51 0 1.02-.2 1.41-.59l7.78-7.78 2.81-2.81c.8-.78.8-2.07 0-2.86zM5.41 20L4 18.59l7.72-7.72 1.47 1.35L5.41 20z\"/>\n",
              "  </svg>\n",
              "      </button>\n",
              "      \n",
              "  <style>\n",
              "    .colab-df-container {\n",
              "      display:flex;\n",
              "      flex-wrap:wrap;\n",
              "      gap: 12px;\n",
              "    }\n",
              "\n",
              "    .colab-df-convert {\n",
              "      background-color: #E8F0FE;\n",
              "      border: none;\n",
              "      border-radius: 50%;\n",
              "      cursor: pointer;\n",
              "      display: none;\n",
              "      fill: #1967D2;\n",
              "      height: 32px;\n",
              "      padding: 0 0 0 0;\n",
              "      width: 32px;\n",
              "    }\n",
              "\n",
              "    .colab-df-convert:hover {\n",
              "      background-color: #E2EBFA;\n",
              "      box-shadow: 0px 1px 2px rgba(60, 64, 67, 0.3), 0px 1px 3px 1px rgba(60, 64, 67, 0.15);\n",
              "      fill: #174EA6;\n",
              "    }\n",
              "\n",
              "    [theme=dark] .colab-df-convert {\n",
              "      background-color: #3B4455;\n",
              "      fill: #D2E3FC;\n",
              "    }\n",
              "\n",
              "    [theme=dark] .colab-df-convert:hover {\n",
              "      background-color: #434B5C;\n",
              "      box-shadow: 0px 1px 3px 1px rgba(0, 0, 0, 0.15);\n",
              "      filter: drop-shadow(0px 1px 2px rgba(0, 0, 0, 0.3));\n",
              "      fill: #FFFFFF;\n",
              "    }\n",
              "  </style>\n",
              "\n",
              "      <script>\n",
              "        const buttonEl =\n",
              "          document.querySelector('#df-8db5161b-a585-47bf-880f-ae318f444305 button.colab-df-convert');\n",
              "        buttonEl.style.display =\n",
              "          google.colab.kernel.accessAllowed ? 'block' : 'none';\n",
              "\n",
              "        async function convertToInteractive(key) {\n",
              "          const element = document.querySelector('#df-8db5161b-a585-47bf-880f-ae318f444305');\n",
              "          const dataTable =\n",
              "            await google.colab.kernel.invokeFunction('convertToInteractive',\n",
              "                                                     [key], {});\n",
              "          if (!dataTable) return;\n",
              "\n",
              "          const docLinkHtml = 'Like what you see? Visit the ' +\n",
              "            '<a target=\"_blank\" href=https://colab.research.google.com/notebooks/data_table.ipynb>data table notebook</a>'\n",
              "            + ' to learn more about interactive tables.';\n",
              "          element.innerHTML = '';\n",
              "          dataTable['output_type'] = 'display_data';\n",
              "          await google.colab.output.renderOutput(dataTable, element);\n",
              "          const docLink = document.createElement('div');\n",
              "          docLink.innerHTML = docLinkHtml;\n",
              "          element.appendChild(docLink);\n",
              "        }\n",
              "      </script>\n",
              "    </div>\n",
              "  </div>\n",
              "  "
            ]
          },
          "metadata": {},
          "execution_count": 692
        }
      ]
    },
    {
      "cell_type": "code",
      "execution_count": null,
      "metadata": {
        "id": "76b06d61",
        "outputId": "32a1c808-8e38-4490-c93d-2afadff55b8d",
        "colab": {
          "base_uri": "https://localhost:8080/"
        }
      },
      "outputs": [
        {
          "output_type": "stream",
          "name": "stdout",
          "text": [
            "<class 'pandas.core.frame.DataFrame'>\n",
            "RangeIndex: 754 entries, 0 to 753\n",
            "Data columns (total 35 columns):\n",
            " #   Column           Non-Null Count  Dtype \n",
            "---  ------           --------------  ----- \n",
            " 0   Unnamed: 0       754 non-null    int64 \n",
            " 1   mood             754 non-null    object\n",
            " 2   age              754 non-null    int64 \n",
            " 3   gender           754 non-null    object\n",
            " 4   subject          754 non-null    object\n",
            " 5   semester         754 non-null    int64 \n",
            " 6   sibilings        754 non-null    int64 \n",
            " 7   living           754 non-null    object\n",
            " 8   employment       754 non-null    object\n",
            " 9   personality      754 non-null    object\n",
            " 10  relationship     754 non-null    object\n",
            " 11  wakeup           754 non-null    object\n",
            " 12  breakfast        754 non-null    object\n",
            " 13  launch           754 non-null    object\n",
            " 14  dinner           754 non-null    object\n",
            " 15  sleep            754 non-null    object\n",
            " 16  hobbies          754 non-null    int64 \n",
            " 17  smoker           754 non-null    int64 \n",
            " 18  alcoholic        754 non-null    int64 \n",
            " 19  drug_addicted    754 non-null    int64 \n",
            " 20  friends          754 non-null    int64 \n",
            " 21  hangout          754 non-null    int64 \n",
            " 22  social_events    754 non-null    object\n",
            " 23  pray             754 non-null    object\n",
            " 24  sports           754 non-null    object\n",
            " 25  exercise         754 non-null    object\n",
            " 26  meditation       754 non-null    object\n",
            " 27  video_games      754 non-null    object\n",
            " 28  study_hours      754 non-null    int64 \n",
            " 29  phone_hours      754 non-null    object\n",
            " 30  medication       752 non-null    object\n",
            " 31  movies_per_week  754 non-null    object\n",
            " 32  music hours      754 non-null    int64 \n",
            " 33  depression       754 non-null    int64 \n",
            " 34  category         754 non-null    object\n",
            "dtypes: int64(13), object(22)\n",
            "memory usage: 206.3+ KB\n"
          ]
        }
      ],
      "source": [
        "df.info()"
      ],
      "id": "76b06d61"
    },
    {
      "cell_type": "code",
      "execution_count": null,
      "metadata": {
        "id": "7903fe76",
        "outputId": "594312e1-95a9-4c69-acbb-0772c7413e93",
        "colab": {
          "base_uri": "https://localhost:8080/"
        }
      },
      "outputs": [
        {
          "output_type": "execute_result",
          "data": {
            "text/plain": [
              "Unnamed: 0         0\n",
              "mood               0\n",
              "age                0\n",
              "gender             0\n",
              "subject            0\n",
              "semester           0\n",
              "sibilings          0\n",
              "living             0\n",
              "employment         0\n",
              "personality        0\n",
              "relationship       0\n",
              "wakeup             0\n",
              "breakfast          0\n",
              "launch             0\n",
              "dinner             0\n",
              "sleep              0\n",
              "hobbies            0\n",
              "smoker             0\n",
              "alcoholic          0\n",
              "drug_addicted      0\n",
              "friends            0\n",
              "hangout            0\n",
              "social_events      0\n",
              "pray               0\n",
              "sports             0\n",
              "exercise           0\n",
              "meditation         0\n",
              "video_games        0\n",
              "study_hours        0\n",
              "phone_hours        0\n",
              "medication         2\n",
              "movies_per_week    0\n",
              "music hours        0\n",
              "depression         0\n",
              "category           0\n",
              "dtype: int64"
            ]
          },
          "metadata": {},
          "execution_count": 694
        }
      ],
      "source": [
        "(df.isnull()).sum()"
      ],
      "id": "7903fe76"
    },
    {
      "cell_type": "code",
      "execution_count": null,
      "metadata": {
        "id": "54443a82",
        "outputId": "1f041375-2361-4213-b365-f45a073a2ecd",
        "colab": {
          "base_uri": "https://localhost:8080/",
          "height": 257
        }
      },
      "outputs": [
        {
          "output_type": "execute_result",
          "data": {
            "text/plain": [
              "    Unnamed: 0    mood  age gender      subject  semester  sibilings  \\\n",
              "8            8  Tensed   24   Male  Engineering        13          2   \n",
              "78          78  Tensed   22   Male     Business         8          3   \n",
              "\n",
              "         living employment personality  ...    exercise  meditation  \\\n",
              "8   With family       None   Introvert  ...  Not at all  Not at all   \n",
              "78  With family       None    Ambivert  ...  Not at all  Not at all   \n",
              "\n",
              "   video_games study_hours  phone_hours medication  movies_per_week  \\\n",
              "8   Very Often           1       3 to 5        NaN            1-Jan   \n",
              "78       Often           2  more than 8        NaN                2   \n",
              "\n",
              "    music hours  depression  category  \n",
              "8             0           9  Moderate  \n",
              "78            0          17  Moderate  \n",
              "\n",
              "[2 rows x 35 columns]"
            ],
            "text/html": [
              "\n",
              "  <div id=\"df-bb7e715a-3ab6-4aec-ad32-41bbcb163b7a\">\n",
              "    <div class=\"colab-df-container\">\n",
              "      <div>\n",
              "<style scoped>\n",
              "    .dataframe tbody tr th:only-of-type {\n",
              "        vertical-align: middle;\n",
              "    }\n",
              "\n",
              "    .dataframe tbody tr th {\n",
              "        vertical-align: top;\n",
              "    }\n",
              "\n",
              "    .dataframe thead th {\n",
              "        text-align: right;\n",
              "    }\n",
              "</style>\n",
              "<table border=\"1\" class=\"dataframe\">\n",
              "  <thead>\n",
              "    <tr style=\"text-align: right;\">\n",
              "      <th></th>\n",
              "      <th>Unnamed: 0</th>\n",
              "      <th>mood</th>\n",
              "      <th>age</th>\n",
              "      <th>gender</th>\n",
              "      <th>subject</th>\n",
              "      <th>semester</th>\n",
              "      <th>sibilings</th>\n",
              "      <th>living</th>\n",
              "      <th>employment</th>\n",
              "      <th>personality</th>\n",
              "      <th>...</th>\n",
              "      <th>exercise</th>\n",
              "      <th>meditation</th>\n",
              "      <th>video_games</th>\n",
              "      <th>study_hours</th>\n",
              "      <th>phone_hours</th>\n",
              "      <th>medication</th>\n",
              "      <th>movies_per_week</th>\n",
              "      <th>music hours</th>\n",
              "      <th>depression</th>\n",
              "      <th>category</th>\n",
              "    </tr>\n",
              "  </thead>\n",
              "  <tbody>\n",
              "    <tr>\n",
              "      <th>8</th>\n",
              "      <td>8</td>\n",
              "      <td>Tensed</td>\n",
              "      <td>24</td>\n",
              "      <td>Male</td>\n",
              "      <td>Engineering</td>\n",
              "      <td>13</td>\n",
              "      <td>2</td>\n",
              "      <td>With family</td>\n",
              "      <td>None</td>\n",
              "      <td>Introvert</td>\n",
              "      <td>...</td>\n",
              "      <td>Not at all</td>\n",
              "      <td>Not at all</td>\n",
              "      <td>Very Often</td>\n",
              "      <td>1</td>\n",
              "      <td>3 to 5</td>\n",
              "      <td>NaN</td>\n",
              "      <td>1-Jan</td>\n",
              "      <td>0</td>\n",
              "      <td>9</td>\n",
              "      <td>Moderate</td>\n",
              "    </tr>\n",
              "    <tr>\n",
              "      <th>78</th>\n",
              "      <td>78</td>\n",
              "      <td>Tensed</td>\n",
              "      <td>22</td>\n",
              "      <td>Male</td>\n",
              "      <td>Business</td>\n",
              "      <td>8</td>\n",
              "      <td>3</td>\n",
              "      <td>With family</td>\n",
              "      <td>None</td>\n",
              "      <td>Ambivert</td>\n",
              "      <td>...</td>\n",
              "      <td>Not at all</td>\n",
              "      <td>Not at all</td>\n",
              "      <td>Often</td>\n",
              "      <td>2</td>\n",
              "      <td>more than 8</td>\n",
              "      <td>NaN</td>\n",
              "      <td>2</td>\n",
              "      <td>0</td>\n",
              "      <td>17</td>\n",
              "      <td>Moderate</td>\n",
              "    </tr>\n",
              "  </tbody>\n",
              "</table>\n",
              "<p>2 rows × 35 columns</p>\n",
              "</div>\n",
              "      <button class=\"colab-df-convert\" onclick=\"convertToInteractive('df-bb7e715a-3ab6-4aec-ad32-41bbcb163b7a')\"\n",
              "              title=\"Convert this dataframe to an interactive table.\"\n",
              "              style=\"display:none;\">\n",
              "        \n",
              "  <svg xmlns=\"http://www.w3.org/2000/svg\" height=\"24px\"viewBox=\"0 0 24 24\"\n",
              "       width=\"24px\">\n",
              "    <path d=\"M0 0h24v24H0V0z\" fill=\"none\"/>\n",
              "    <path d=\"M18.56 5.44l.94 2.06.94-2.06 2.06-.94-2.06-.94-.94-2.06-.94 2.06-2.06.94zm-11 1L8.5 8.5l.94-2.06 2.06-.94-2.06-.94L8.5 2.5l-.94 2.06-2.06.94zm10 10l.94 2.06.94-2.06 2.06-.94-2.06-.94-.94-2.06-.94 2.06-2.06.94z\"/><path d=\"M17.41 7.96l-1.37-1.37c-.4-.4-.92-.59-1.43-.59-.52 0-1.04.2-1.43.59L10.3 9.45l-7.72 7.72c-.78.78-.78 2.05 0 2.83L4 21.41c.39.39.9.59 1.41.59.51 0 1.02-.2 1.41-.59l7.78-7.78 2.81-2.81c.8-.78.8-2.07 0-2.86zM5.41 20L4 18.59l7.72-7.72 1.47 1.35L5.41 20z\"/>\n",
              "  </svg>\n",
              "      </button>\n",
              "      \n",
              "  <style>\n",
              "    .colab-df-container {\n",
              "      display:flex;\n",
              "      flex-wrap:wrap;\n",
              "      gap: 12px;\n",
              "    }\n",
              "\n",
              "    .colab-df-convert {\n",
              "      background-color: #E8F0FE;\n",
              "      border: none;\n",
              "      border-radius: 50%;\n",
              "      cursor: pointer;\n",
              "      display: none;\n",
              "      fill: #1967D2;\n",
              "      height: 32px;\n",
              "      padding: 0 0 0 0;\n",
              "      width: 32px;\n",
              "    }\n",
              "\n",
              "    .colab-df-convert:hover {\n",
              "      background-color: #E2EBFA;\n",
              "      box-shadow: 0px 1px 2px rgba(60, 64, 67, 0.3), 0px 1px 3px 1px rgba(60, 64, 67, 0.15);\n",
              "      fill: #174EA6;\n",
              "    }\n",
              "\n",
              "    [theme=dark] .colab-df-convert {\n",
              "      background-color: #3B4455;\n",
              "      fill: #D2E3FC;\n",
              "    }\n",
              "\n",
              "    [theme=dark] .colab-df-convert:hover {\n",
              "      background-color: #434B5C;\n",
              "      box-shadow: 0px 1px 3px 1px rgba(0, 0, 0, 0.15);\n",
              "      filter: drop-shadow(0px 1px 2px rgba(0, 0, 0, 0.3));\n",
              "      fill: #FFFFFF;\n",
              "    }\n",
              "  </style>\n",
              "\n",
              "      <script>\n",
              "        const buttonEl =\n",
              "          document.querySelector('#df-bb7e715a-3ab6-4aec-ad32-41bbcb163b7a button.colab-df-convert');\n",
              "        buttonEl.style.display =\n",
              "          google.colab.kernel.accessAllowed ? 'block' : 'none';\n",
              "\n",
              "        async function convertToInteractive(key) {\n",
              "          const element = document.querySelector('#df-bb7e715a-3ab6-4aec-ad32-41bbcb163b7a');\n",
              "          const dataTable =\n",
              "            await google.colab.kernel.invokeFunction('convertToInteractive',\n",
              "                                                     [key], {});\n",
              "          if (!dataTable) return;\n",
              "\n",
              "          const docLinkHtml = 'Like what you see? Visit the ' +\n",
              "            '<a target=\"_blank\" href=https://colab.research.google.com/notebooks/data_table.ipynb>data table notebook</a>'\n",
              "            + ' to learn more about interactive tables.';\n",
              "          element.innerHTML = '';\n",
              "          dataTable['output_type'] = 'display_data';\n",
              "          await google.colab.output.renderOutput(dataTable, element);\n",
              "          const docLink = document.createElement('div');\n",
              "          docLink.innerHTML = docLinkHtml;\n",
              "          element.appendChild(docLink);\n",
              "        }\n",
              "      </script>\n",
              "    </div>\n",
              "  </div>\n",
              "  "
            ]
          },
          "metadata": {},
          "execution_count": 695
        }
      ],
      "source": [
        "df.loc[df.isna().any(1)] "
      ],
      "id": "54443a82"
    },
    {
      "cell_type": "code",
      "execution_count": null,
      "metadata": {
        "id": "d4e4f082",
        "outputId": "62ad32e2-d54d-4932-9f92-79889e69d153",
        "colab": {
          "base_uri": "https://localhost:8080/"
        }
      },
      "outputs": [
        {
          "output_type": "execute_result",
          "data": {
            "text/plain": [
              "0      False\n",
              "1      False\n",
              "2      False\n",
              "3      False\n",
              "4      False\n",
              "       ...  \n",
              "749    False\n",
              "750    False\n",
              "751    False\n",
              "752    False\n",
              "753    False\n",
              "Length: 754, dtype: bool"
            ]
          },
          "metadata": {},
          "execution_count": 696
        }
      ],
      "source": [
        "df.duplicated(keep=False)"
      ],
      "id": "d4e4f082"
    },
    {
      "cell_type": "code",
      "execution_count": null,
      "metadata": {
        "id": "j8Udg-6vTWwq",
        "outputId": "dcb57db3-5e74-4d4a-b6bd-b6cc6d22de94",
        "colab": {
          "base_uri": "https://localhost:8080/"
        }
      },
      "outputs": [
        {
          "output_type": "execute_result",
          "data": {
            "text/plain": [
              "Happy     283\n",
              "Tensed    188\n",
              "Lost      155\n",
              "Sad       108\n",
              "Angry      20\n",
              "Name: mood, dtype: int64"
            ]
          },
          "metadata": {},
          "execution_count": 697
        }
      ],
      "source": [
        "###emma\n",
        "df[\"mood\"].value_counts() # no problem"
      ],
      "id": "j8Udg-6vTWwq"
    },
    {
      "cell_type": "code",
      "execution_count": null,
      "metadata": {
        "id": "ClvqPmGZTfft",
        "outputId": "4022f530-34b6-464a-d9cc-58bde5ccfc58",
        "colab": {
          "base_uri": "https://localhost:8080/"
        }
      },
      "outputs": [
        {
          "output_type": "execute_result",
          "data": {
            "text/plain": [
              "22    144\n",
              "23    143\n",
              "21    133\n",
              "24    116\n",
              "25     80\n",
              "20     73\n",
              "19     21\n",
              "26     17\n",
              "18     10\n",
              "27      6\n",
              "28      3\n",
              "33      2\n",
              "30      2\n",
              "29      2\n",
              "31      1\n",
              "17      1\n",
              "Name: age, dtype: int64"
            ]
          },
          "metadata": {},
          "execution_count": 698
        }
      ],
      "source": [
        "df[\"age\"].value_counts() #no problem"
      ],
      "id": "ClvqPmGZTfft"
    },
    {
      "cell_type": "code",
      "execution_count": null,
      "metadata": {
        "id": "Q9PQpyKqTjgy",
        "outputId": "6e5ee29d-5ff1-4f8a-c2f2-5a80caea7c95",
        "colab": {
          "base_uri": "https://localhost:8080/"
        }
      },
      "outputs": [
        {
          "output_type": "execute_result",
          "data": {
            "text/plain": [
              "Male      474\n",
              "Female    278\n",
              "Others      2\n",
              "Name: gender, dtype: int64"
            ]
          },
          "metadata": {},
          "execution_count": 699
        }
      ],
      "source": [
        "df[\"gender\"].value_counts() #no problem"
      ],
      "id": "Q9PQpyKqTjgy"
    },
    {
      "cell_type": "code",
      "execution_count": null,
      "metadata": {
        "id": "iAc6coISTpCb",
        "outputId": "72c33a41-967f-41b9-9883-48ccaa34f059",
        "colab": {
          "base_uri": "https://localhost:8080/"
        }
      },
      "outputs": [
        {
          "output_type": "execute_result",
          "data": {
            "text/plain": [
              "Engineering                  383\n",
              "Business                     207\n",
              "Pharmacy                      28\n",
              "MBBS                          16\n",
              "Law                           15\n",
              "                            ... \n",
              "IR                             1\n",
              "Environmental Management       1\n",
              "Environmental management       1\n",
              "Botany                         1\n",
              "Hsc                            1\n",
              "Name: subject, Length: 69, dtype: int64"
            ]
          },
          "metadata": {},
          "execution_count": 700
        }
      ],
      "source": [
        "#subject\n",
        "df[\"subject\"].value_counts()  "
      ],
      "id": "iAc6coISTpCb"
    },
    {
      "cell_type": "code",
      "execution_count": null,
      "metadata": {
        "id": "hqsRaJ1sTtic",
        "outputId": "ceeaef5b-02a8-4889-e321-f5ed4f8e16b6",
        "colab": {
          "base_uri": "https://localhost:8080/"
        }
      },
      "outputs": [
        {
          "output_type": "execute_result",
          "data": {
            "text/plain": [
              "engineering                                  383\n",
              "business                                     207\n",
              "pharmacy                                      28\n",
              "mbbs                                          16\n",
              "law                                           15\n",
              "economics                                     12\n",
              "english literature                             8\n",
              "microbiology                                   7\n",
              "architecture                                   7\n",
              "biochemistry and biotechnology                 7\n",
              "english linguistics                            6\n",
              "biochemistry                                   5\n",
              "college                                        4\n",
              "botany                                         3\n",
              "environmental science                          3\n",
              "environmental management                       2\n",
              "mathematics                                    2\n",
              "physics                                        2\n",
              "international relations                        2\n",
              "hsc                                            2\n",
              "bba                                            2\n",
              "honours                                        1\n",
              "art and creative studies                       1\n",
              "interior architecture                          1\n",
              "marketing                                      1\n",
              "geography & environment                        1\n",
              "?????????????? ????? ???????????               1\n",
              "environment management                         1\n",
              "bba in finance                                 1\n",
              "bpt                                            1\n",
              "cse                                            1\n",
              "political science                              1\n",
              "college/humanities                             1\n",
              "genetic engineering and biotechnology          1\n",
              "life sciences                                  1\n",
              "it                                             1\n",
              "tesol                                          1\n",
              "hsc 20                                         1\n",
              "environmental science and management           1\n",
              "biotechnology and biochemistry                 1\n",
              "linguistics                                    1\n",
              "criminology                                    1\n",
              "child development and social relationship      1\n",
              "not admitted yet                               1\n",
              "science                                        1\n",
              "esm                                            1\n",
              "archaeology                                    1\n",
              "bds                                            1\n",
              "biochemistry and molecular biology             1\n",
              "social sciences and humanities                 1\n",
              "ir                                             1\n",
              "social work                                    1\n",
              "Name: subject, dtype: int64"
            ]
          },
          "metadata": {},
          "execution_count": 701
        }
      ],
      "source": [
        "#lower\n",
        "df[\"subject\"] = df[\"subject\"].str.lower()\n",
        "#remove space\n",
        "df[\"subject\"] = df['subject'].str.strip()\n",
        "\n",
        "df[\"subject\"].value_counts() "
      ],
      "id": "hqsRaJ1sTtic"
    },
    {
      "cell_type": "code",
      "execution_count": null,
      "metadata": {
        "id": "Umr0xeqehQR6",
        "outputId": "7f8b81aa-46a0-4388-dea3-acb2df20bea1",
        "colab": {
          "base_uri": "https://localhost:8080/"
        }
      },
      "outputs": [
        {
          "output_type": "execute_result",
          "data": {
            "text/plain": [
              "engineering        384\n",
              "business           226\n",
              "bio and medical     71\n",
              "social              28\n",
              "literature          16\n",
              "others               9\n",
              "architecture         8\n",
              "environment          8\n",
              "math. and cs         4\n",
              "Name: subject, dtype: int64"
            ]
          },
          "metadata": {},
          "execution_count": 702
        }
      ],
      "source": [
        "#re-classificate the subject \n",
        "for item in df['subject']:\n",
        "    if(item == \"business\" or item == \"economics\" or item == \"hsc\" or item == \"bba\" or item == \"marketing\" or item ==\"bba in finance\" or item == \"hsc 20\"):\n",
        "        df['subject'].replace(item, 'business', inplace = True) \n",
        "        continue\n",
        "    elif(item == 'engineering' or item == \"esm\"):\n",
        "        df['subject'].replace(item, 'engineering', inplace = True) \n",
        "        continue       \n",
        "    elif(item == 'bio and medical' or item == \"mbbs\" or item == \"bpt\" or item == \"microbiology\" or item == \"biochemistry\" or item == \"biochemistry and biotechnology\" or item == \"botany\" or item == \"genetic engineering and biotechnology\" or item == \"life sciences\" or item == \"biotechnology and biochemistry\" or item == \"biochemistry and molecular biology\" or item == \"pharmacy\"):\n",
        "        df['subject'].replace(item, 'bio and medical', inplace = True) \n",
        "        continue        \n",
        "    elif(item == 'social' or item == \"law\" or item == \"international relations\" or item == \"ir\" or item == \"social work\" or item == \"social sciences and humanities\" or item == \"political science\" or item ==\"college/humanities\" or item == \"college\" or item == \"criminology\" or item == \"child development and social relationship\"):\n",
        "        df['subject'].replace(item, 'social', inplace = True) \n",
        "        continue       \n",
        "    elif(item == 'literature' or item == \"english literature\" or item == \"english linguistics\" or item == \"tesol\" or item == \"linguistics\"):\n",
        "        df['subject'].replace(item, 'literature', inplace = True)\n",
        "        continue   \n",
        "    elif(item == \"environment\" or item == \"environmental science\" or item == \"environmental management\" or item == \"geography & environment\" or item == \"environment management\" or item == \"environmental science and management\"):\n",
        "        df['subject'].replace(item, 'environment', inplace = True)\n",
        "        continue      \n",
        "    elif(item == 'architecture' or item == \"interior architecture\"):\n",
        "        df['subject'].replace(item, 'architecture', inplace = True)\n",
        "        continue\n",
        "    elif(item == 'math. and cs' or item == 'cse' or item == 'it' or item == 'mathematics'):\n",
        "        df['subject'].replace(item, 'math. and cs', inplace = True)\n",
        "        continue\n",
        "    else:\n",
        "        df['subject'].replace(item, 'others', inplace = True)\n",
        "\n",
        "\n",
        "\n",
        "df[\"subject\"].value_counts() "
      ],
      "id": "Umr0xeqehQR6"
    },
    {
      "cell_type": "code",
      "execution_count": null,
      "metadata": {
        "id": "zAYzW1_8UKdN",
        "outputId": "ea2eb820-06b4-4a12-d540-9f1b35323926",
        "colab": {
          "base_uri": "https://localhost:8080/"
        }
      },
      "outputs": [
        {
          "output_type": "stream",
          "name": "stdout",
          "text": [
            "<class 'pandas.core.frame.DataFrame'>\n",
            "RangeIndex: 754 entries, 0 to 753\n",
            "Data columns (total 35 columns):\n",
            " #   Column           Non-Null Count  Dtype \n",
            "---  ------           --------------  ----- \n",
            " 0   Unnamed: 0       754 non-null    int64 \n",
            " 1   mood             754 non-null    object\n",
            " 2   age              754 non-null    int64 \n",
            " 3   gender           754 non-null    object\n",
            " 4   subject          754 non-null    object\n",
            " 5   semester         754 non-null    int64 \n",
            " 6   sibilings        754 non-null    int64 \n",
            " 7   living           754 non-null    object\n",
            " 8   employment       754 non-null    object\n",
            " 9   personality      754 non-null    object\n",
            " 10  relationship     754 non-null    object\n",
            " 11  wakeup           754 non-null    object\n",
            " 12  breakfast        754 non-null    object\n",
            " 13  launch           754 non-null    object\n",
            " 14  dinner           754 non-null    object\n",
            " 15  sleep            754 non-null    object\n",
            " 16  hobbies          754 non-null    int64 \n",
            " 17  smoker           754 non-null    int64 \n",
            " 18  alcoholic        754 non-null    int64 \n",
            " 19  drug_addicted    754 non-null    int64 \n",
            " 20  friends          754 non-null    int64 \n",
            " 21  hangout          754 non-null    int64 \n",
            " 22  social_events    754 non-null    object\n",
            " 23  pray             754 non-null    object\n",
            " 24  sports           754 non-null    object\n",
            " 25  exercise         754 non-null    object\n",
            " 26  meditation       754 non-null    object\n",
            " 27  video_games      754 non-null    object\n",
            " 28  study_hours      754 non-null    int64 \n",
            " 29  phone_hours      754 non-null    object\n",
            " 30  medication       752 non-null    object\n",
            " 31  movies_per_week  754 non-null    object\n",
            " 32  music hours      754 non-null    int64 \n",
            " 33  depression       754 non-null    int64 \n",
            " 34  category         754 non-null    object\n",
            "dtypes: int64(13), object(22)\n",
            "memory usage: 206.3+ KB\n"
          ]
        }
      ],
      "source": [
        "#semester\n",
        "df[\"semester\"].value_counts()\n",
        "\n",
        "# collage year bigger than age +6 , delete this column\n",
        "for i in range(len(df)):\n",
        "    se = df['semester'].get(i)\n",
        "    age =df[\"age\"].get(i)\n",
        "    if age - se < 6:\n",
        "        df.drop([i])\n",
        "\n",
        "#should delete 1 rows\n",
        "df.info()"
      ],
      "id": "zAYzW1_8UKdN"
    },
    {
      "cell_type": "code",
      "execution_count": null,
      "metadata": {
        "id": "RTFsI1uAin66",
        "outputId": "db434a87-7779-4533-a1dc-98664f28cdac",
        "colab": {
          "base_uri": "https://localhost:8080/"
        }
      },
      "outputs": [
        {
          "output_type": "execute_result",
          "data": {
            "text/plain": [
              "5      108\n",
              "11      94\n",
              "12      85\n",
              "8       68\n",
              "10      56\n",
              "4       47\n",
              "1       47\n",
              "7       40\n",
              "2       39\n",
              "9       37\n",
              "6       35\n",
              "13      30\n",
              "3       27\n",
              "15+     21\n",
              "14      20\n",
              "Name: semester, dtype: int64"
            ]
          },
          "metadata": {},
          "execution_count": 704
        }
      ],
      "source": [
        "# semster < 15 keep，>16 as 16+\n",
        "for item in df['semester']: \n",
        "    if item >= 15:  \n",
        "        df['semester'].replace(item, '15+', inplace = True)\n",
        "    \n",
        "df['semester'].value_counts()"
      ],
      "id": "RTFsI1uAin66"
    },
    {
      "cell_type": "code",
      "execution_count": null,
      "metadata": {
        "id": "IS5vy6HmjBv_",
        "outputId": "2b5c956d-90c7-4d58-9312-91d7aa778e29",
        "colab": {
          "base_uri": "https://localhost:8080/"
        }
      },
      "outputs": [
        {
          "output_type": "execute_result",
          "data": {
            "text/plain": [
              "1     315\n",
              "2     222\n",
              "3     119\n",
              "0      64\n",
              "4      18\n",
              "5       5\n",
              "6       5\n",
              "8       2\n",
              "7       1\n",
              "13      1\n",
              "10      1\n",
              "20      1\n",
              "Name: sibilings, dtype: int64"
            ]
          },
          "metadata": {},
          "execution_count": 705
        }
      ],
      "source": [
        "#siblings\n",
        "df[\"sibilings\"].value_counts()"
      ],
      "id": "IS5vy6HmjBv_"
    },
    {
      "cell_type": "code",
      "source": [
        "df[\"living\"].value_counts()"
      ],
      "metadata": {
        "colab": {
          "base_uri": "https://localhost:8080/"
        },
        "id": "boYbjGVMPOsJ",
        "outputId": "70f49402-8f33-4c02-9a88-1abc0bd1561b"
      },
      "id": "boYbjGVMPOsJ",
      "execution_count": null,
      "outputs": [
        {
          "output_type": "execute_result",
          "data": {
            "text/plain": [
              "With family       707\n",
              "Without family     47\n",
              "Name: living, dtype: int64"
            ]
          },
          "metadata": {},
          "execution_count": 706
        }
      ]
    },
    {
      "cell_type": "code",
      "execution_count": null,
      "metadata": {
        "id": "caaQEc4FjDXW",
        "outputId": "2f83ace8-0e3e-4b78-89c2-c022815921b9",
        "colab": {
          "base_uri": "https://localhost:8080/"
        }
      },
      "outputs": [
        {
          "output_type": "execute_result",
          "data": {
            "text/plain": [
              "1     315\n",
              "2     222\n",
              "3     119\n",
              "0      64\n",
              "4      18\n",
              "7+      6\n",
              "5       5\n",
              "6       5\n",
              "Name: sibilings, dtype: int64"
            ]
          },
          "metadata": {},
          "execution_count": 707
        }
      ],
      "source": [
        "# more than 7 siblings is 7+\n",
        "for item in df['sibilings']: \n",
        "    if item >= 7:  \n",
        "        df['sibilings'].replace(item, '7+', inplace = True)\n",
        "    \n",
        "df[\"sibilings\"].value_counts()"
      ],
      "id": "caaQEc4FjDXW"
    },
    {
      "cell_type": "code",
      "execution_count": null,
      "metadata": {
        "id": "3b3368f0",
        "outputId": "3d69f733-f701-4d8d-cde0-9e997e94a9ad",
        "colab": {
          "base_uri": "https://localhost:8080/"
        }
      },
      "outputs": [
        {
          "output_type": "execute_result",
          "data": {
            "text/plain": [
              "array([1, 0, 2])"
            ]
          },
          "metadata": {},
          "execution_count": 708
        }
      ],
      "source": [
        "df[\"employment\"] = df[\"employment\"].str.strip()\n",
        "df[\"employment\"] = df[\"employment\"].str.lower()\n",
        "employment_mapper = {\"none\":0, \"part time\":1, \"full time\":2}\n",
        "df[\"employment\"] = df[\"employment\"].replace(employment_mapper)\n",
        "df['employment'].unique()"
      ],
      "id": "3b3368f0"
    },
    {
      "cell_type": "code",
      "source": [
        "df[\"living\"] = df[\"living\"].str.strip()\n",
        "df[\"living\"] = df[\"living\"].str.lower()\n",
        "living_mapper = {\"with family\":0, \"without family\":1}\n",
        "df[\"living\"] = df[\"living\"].replace(living_mapper)\n",
        "df['living'].unique()"
      ],
      "metadata": {
        "colab": {
          "base_uri": "https://localhost:8080/"
        },
        "id": "Dd_CMUHpPHTu",
        "outputId": "aa7cd856-2d37-4088-941f-4ec015487144"
      },
      "id": "Dd_CMUHpPHTu",
      "execution_count": null,
      "outputs": [
        {
          "output_type": "execute_result",
          "data": {
            "text/plain": [
              "array([0, 1])"
            ]
          },
          "metadata": {},
          "execution_count": 709
        }
      ]
    },
    {
      "cell_type": "code",
      "execution_count": null,
      "metadata": {
        "id": "c4975190",
        "outputId": "404dea59-97bc-4fda-e729-f689b341e592",
        "colab": {
          "base_uri": "https://localhost:8080/"
        }
      },
      "outputs": [
        {
          "output_type": "execute_result",
          "data": {
            "text/plain": [
              "array([0, 1, 2])"
            ]
          },
          "metadata": {},
          "execution_count": 710
        }
      ],
      "source": [
        "df[\"personality\"] = df[\"personality\"].str.strip()\n",
        "df[\"personality\"] = df[\"personality\"].str.lower()\n",
        "personality_mapper = {\"extrovert\":0, \"ambivert\":1, \"introvert\":2}\n",
        "df[\"personality\"] = df[\"personality\"].replace(personality_mapper)\n",
        "df['personality'].unique()"
      ],
      "id": "c4975190"
    },
    {
      "cell_type": "code",
      "execution_count": null,
      "metadata": {
        "id": "55ba5eee",
        "outputId": "5d8e08fa-dbf3-4a38-b11e-a008e8e1c176",
        "colab": {
          "base_uri": "https://localhost:8080/"
        }
      },
      "outputs": [
        {
          "output_type": "execute_result",
          "data": {
            "text/plain": [
              "array([0, 1, 2, 3, 4])"
            ]
          },
          "metadata": {},
          "execution_count": 711
        }
      ],
      "source": [
        "df[\"relationship\"] = df[\"relationship\"].str.strip()\n",
        "df[\"relationship\"] = df[\"relationship\"].str.lower()\n",
        "relationship_mapper = {\"in a relationship\":0, \"single\":1, \"engaged\":2, \"divorced\":3, \"married\":4}\n",
        "df[\"relationship\"] = df[\"relationship\"].replace(relationship_mapper)\n",
        "df['relationship'].unique()"
      ],
      "id": "55ba5eee"
    },
    {
      "cell_type": "code",
      "execution_count": null,
      "metadata": {
        "id": "d0d16c9e",
        "outputId": "b538194f-d32e-4414-ba6b-d3b643ad4843",
        "colab": {
          "base_uri": "https://localhost:8080/"
        }
      },
      "outputs": [
        {
          "output_type": "execute_result",
          "data": {
            "text/plain": [
              "array(['11:20:00 AM', '12:00:00 PM', '8:30:00 AM', '2:00:00 PM',\n",
              "       '11:00:00 AM', '10:00:00 AM', '9:30:00 AM', '9:00:00 AM',\n",
              "       '9:40:00 AM', '8:00:00 AM', '6:00:00 AM', '5:00:00 AM',\n",
              "       '7:00:00 AM', '4:00:00 PM', '9:20:00 AM', '12:30:00 PM',\n",
              "       '7:50:00 AM', '1:00:00 PM', '3:00:00 PM', '12:15:00 PM',\n",
              "       '12:10:00 AM', '6:10:00 AM', '7:30:00 AM', '11:12:00 AM',\n",
              "       '5:30:00 AM', '11:30:00 AM', '10:30:00 AM', '6:30:00 AM',\n",
              "       '12:12:00 PM', '6:00:00 PM', '1:30:00 PM', '11:15:00 AM',\n",
              "       '4:00:00 AM', '3:00:00 AM', '9:15:00 AM', '1:30:00 AM',\n",
              "       '12:05:00 AM', '9:21:00 AM', '4:30:00 AM', '1:00:00 AM',\n",
              "       '11:38:00 AM', '9:00:00 PM', '11:50:00 AM', '8:45:00 AM',\n",
              "       '4:50:00 AM', '9:45:00 AM', '12:00:00 AM', '8:50:00 AM',\n",
              "       '5:20:00 AM', '8:20:00 AM', '12:08:00 AM', '6:45:00 AM',\n",
              "       '5:15:00 AM', '4:35:00 AM', '7:45:00 AM', '10:20:00 AM',\n",
              "       '12:01:00 PM', '7:38:00 AM', '8:45:00 PM', '4:20:00 AM',\n",
              "       '12:09:00 AM', '9:09:00 AM', '12:37:00 AM', '1:40:00 PM',\n",
              "       '11:17:00 AM', '5:45:00 AM', '10:45:00 AM', '10:10:00 AM',\n",
              "       '11:10:00 AM', '11:11:00 AM', '5:00:00 PM', '7:20:00 AM',\n",
              "       '7:15:00 AM', '12:06:00 AM', '1:02:00 PM'], dtype=object)"
            ]
          },
          "metadata": {},
          "execution_count": 712
        }
      ],
      "source": [
        "df['wakeup'].unique()"
      ],
      "id": "d0d16c9e"
    },
    {
      "cell_type": "code",
      "execution_count": null,
      "metadata": {
        "id": "25102a64",
        "outputId": "f6f4cae3-86b4-4a54-f322-70ee0e8be5ee",
        "colab": {
          "base_uri": "https://localhost:8080/"
        }
      },
      "outputs": [
        {
          "output_type": "execute_result",
          "data": {
            "text/plain": [
              "array(['1:10:00 AM', '12:15:00 PM', '10:00:00 AM', '3:00:00 PM',\n",
              "       '11:30:00 AM', '4:00:00 PM', '11:00:00 AM', '1:00:00 PM',\n",
              "       '10:30:00 AM', '11:10:00 AM', '2:00:00 PM', '12:00:00 PM',\n",
              "       '9:15:00 AM', '8:30:00 AM', '9:00:00 AM', '11:11:00 AM',\n",
              "       '7:00:00 AM', '11:20:00 AM', '12:00:00 AM', '8:03:00 AM',\n",
              "       '9:30:00 AM', '1:30:00 PM', '12:30:00 PM', '12:11:00 AM',\n",
              "       '11:15:00 AM', '2:50:00 PM', '1:01:00 PM', '6:00:00 AM',\n",
              "       '10:15:00 AM', '8:00:00 AM', '2:30:00 PM', '1:12:00 PM',\n",
              "       '9:20:00 AM', '10:00:00 PM', '6:30:00 AM', '9:50:00 AM',\n",
              "       '9:45:00 AM', '10:30:00 PM', '3:07:00 PM', '8:20:00 AM',\n",
              "       '1:00:00 AM', '10:20:00 AM', '11:25:00 AM', '7:30:00 AM',\n",
              "       '10:50:00 AM', '9:40:00 AM', '10:45:00 AM', '8:50:00 AM',\n",
              "       '7:45:00 AM', '11:45:00 AM', '12:20:00 PM', '2:00:00 AM',\n",
              "       '9:10:00 AM', '1:03:00 PM', '11:00:00 PM', '2:15:00 PM',\n",
              "       '6:45:00 AM', '11:11:00 PM', '2:45:00 PM', '1:07:00 PM',\n",
              "       '10:52:00 AM', '8:10:00 AM', '11:30:00 PM', '12:11:00 PM',\n",
              "       '4:45:00 AM', '2:05:00 PM', '5:30:00 PM', '12:08:00 AM'],\n",
              "      dtype=object)"
            ]
          },
          "metadata": {},
          "execution_count": 713
        }
      ],
      "source": [
        "df['breakfast'].unique()"
      ],
      "id": "25102a64"
    },
    {
      "cell_type": "code",
      "execution_count": null,
      "metadata": {
        "id": "7456fbc8",
        "outputId": "56424082-cb33-4eb1-9c54-554da98e55b7",
        "colab": {
          "base_uri": "https://localhost:8080/"
        }
      },
      "outputs": [
        {
          "output_type": "execute_result",
          "data": {
            "text/plain": [
              "array(['4:20:00 PM', '4:30:00 PM', '3:00:00 PM', '7:00:00 PM',\n",
              "       '3:00:00 AM', '2:00:00 PM', '2:30:00 PM', '4:00:00 PM',\n",
              "       '2:45:00 PM', '8:00:00 PM', '2:40:00 PM', '2:00:00 AM',\n",
              "       '12:00:00 AM', '3:30:00 PM', '1:30:00 PM', '2:10:00 PM',\n",
              "       '6:00:00 PM', '2:30:00 AM', '5:00:00 PM', '2:50:00 PM',\n",
              "       '6:30:00 PM', '5:45:00 PM', '12:04:00 PM', '1:01:00 PM',\n",
              "       '1:30:00 AM', '4:00:00 AM', '1:45:00 PM', '1:00:00 PM',\n",
              "       '4:45:00 PM', '3:30:00 AM', '1:00:00 AM', '3:07:00 PM',\n",
              "       '5:30:00 PM', '12:00:00 PM', '1:45:00 AM', '2:20:00 PM',\n",
              "       '3:45:00 PM', '2:15:00 AM', '12:02:00 PM', '4:30:00 AM',\n",
              "       '3:15:00 AM', '5:00:00 AM', '1:38:00 PM', '5:25:00 PM',\n",
              "       '4:15:00 PM', '5:03:00 PM', '12:05:00 PM', '2:15:00 PM',\n",
              "       '4:04:00 PM', '3:15:00 PM', '6:00:00 AM', '2:02:00 AM',\n",
              "       '3:01:00 PM', '2:09:00 AM', '3:12:00 PM', '2:11:00 PM',\n",
              "       '10:00:00 PM', '1:15:00 PM'], dtype=object)"
            ]
          },
          "metadata": {},
          "execution_count": 714
        }
      ],
      "source": [
        "df['launch'].unique()"
      ],
      "id": "7456fbc8"
    },
    {
      "cell_type": "code",
      "execution_count": null,
      "metadata": {
        "id": "a94158f6",
        "outputId": "0bed1bfe-3857-4edb-e3b1-0b727d597969",
        "colab": {
          "base_uri": "https://localhost:8080/"
        }
      },
      "outputs": [
        {
          "output_type": "execute_result",
          "data": {
            "text/plain": [
              "array(['9:20:00 PM', '10:30:00 PM', '10:00:00 PM', '12:00:00 AM',\n",
              "       '11:30:00 PM', '5:00:00 AM', '11:00:00 PM', '1:00:00 AM',\n",
              "       '2:00:00 AM', '3:00:00 AM', '4:00:00 AM', '6:00:00 AM',\n",
              "       '7:00:00 AM', '8:00:00 AM', '9:00:00 AM', '10:00:00 AM',\n",
              "       '11:00:00 AM', '12:00:00 PM', '1:00:00 PM', '2:00:00 PM',\n",
              "       '3:00:00 PM', '5:00:00 PM', '6:00:00 PM', '7:00:00 PM',\n",
              "       '8:00:00 PM', '9:00:00 PM', '4:00:00 PM'], dtype=object)"
            ]
          },
          "metadata": {},
          "execution_count": 715
        }
      ],
      "source": [
        "df['dinner'].unique()"
      ],
      "id": "a94158f6"
    },
    {
      "cell_type": "code",
      "execution_count": null,
      "metadata": {
        "id": "3d24a3cb",
        "outputId": "0185d3a8-45d7-472d-ecf4-90eda5da2cf1",
        "colab": {
          "base_uri": "https://localhost:8080/"
        }
      },
      "outputs": [
        {
          "output_type": "execute_result",
          "data": {
            "text/plain": [
              "array(['4:20:00 AM', '4:00:00 AM', '1:00:00 AM', '3:00:00 AM',\n",
              "       '3:30:00 AM', '5:30:00 AM', '2:00:00 AM', '2:15:00 AM',\n",
              "       '4:30:00 AM', '5:00:00 AM', '1:50:00 AM', '1:30:00 AM',\n",
              "       '12:00:00 PM', '2:00:00 PM', '2:30:00 AM', '6:00:00 AM',\n",
              "       '1:20:00 AM', '12:00:00 AM', '11:00:00 PM', '12:05:00 AM',\n",
              "       '11:50:00 PM', '11:30:00 PM', '12:30:00 AM', '3:03:00 AM',\n",
              "       '11:00:00 AM', '12:20:00 AM', '10:30:00 AM', '3:00:00 PM',\n",
              "       '7:00:00 AM', '8:00:00 AM', '6:23:00 AM', '3:45:00 AM',\n",
              "       '4:00:00 PM', '10:00:00 AM', '11:15:00 AM', '4:45:00 AM',\n",
              "       '1:00:00 PM', '4:12:00 AM', '12:01:00 AM', '12:45:00 AM',\n",
              "       '12:15:00 AM', '2:30:00 PM', '11:30:00 AM', '11:55:00 AM',\n",
              "       '9:00:00 AM', '4:02:00 AM', '1:15:00 AM', '7:45:00 AM',\n",
              "       '10:25:00 PM', '1:40:00 AM', '10:30:00 PM', '9:30:00 AM',\n",
              "       '12:30:00 PM', '10:59:00 PM', '4:50:00 AM', '11:20:00 AM',\n",
              "       '8:00:00 PM', '2:02:00 AM', '1:45:00 AM', '3:30:00 PM',\n",
              "       '10:00:00 PM', '3:58:00 AM', '2:11:00 AM', '8:08:00 PM',\n",
              "       '1:37:00 AM'], dtype=object)"
            ]
          },
          "metadata": {},
          "execution_count": 716
        }
      ],
      "source": [
        "df['sleep'].unique()"
      ],
      "id": "3d24a3cb"
    },
    {
      "cell_type": "code",
      "execution_count": null,
      "metadata": {
        "id": "465f9aba"
      },
      "outputs": [],
      "source": [
        "def convert24(str1):\n",
        "    if str1[-2:] == \"AM\" and str1[:2] == \"12\":\n",
        "        return \"00\" + str1[2:-3]\n",
        "    elif str1[-2:] == \"AM\":\n",
        "        return str1[:-3]\n",
        "    elif str1[-2:] == \"PM\" and str1[1] == \":\":\n",
        "        return str(int(str1[0]) + 12) + str1[1:7]\n",
        "    elif str1[-2:] == \"PM\" and str1[:2] == \"12\":\n",
        "        return \"00\" + str1[2:-3]\n",
        "    else:\n",
        "        return str(int(str1[:2]) + 12) + str1[2:8]\n",
        "    "
      ],
      "id": "465f9aba"
    },
    {
      "cell_type": "code",
      "execution_count": null,
      "metadata": {
        "id": "342718a4"
      },
      "outputs": [],
      "source": [
        "df['wakeup'] = df['wakeup'].map(lambda x: convert24(x))\n",
        "df['breakfast'] = df['breakfast'].map(lambda x: convert24(x))\n",
        "df['launch'] = df['launch'].map(lambda x: convert24(x))\n",
        "df['dinner'] = df['dinner'].map(lambda x: convert24(x))\n",
        "df['sleep'] = df['sleep'].map(lambda x: convert24(x))"
      ],
      "id": "342718a4"
    },
    {
      "cell_type": "code",
      "execution_count": null,
      "metadata": {
        "id": "5a34e1af",
        "outputId": "e25d16bd-a9e9-4847-cc99-0e122e7234ee",
        "colab": {
          "base_uri": "https://localhost:8080/"
        }
      },
      "outputs": [
        {
          "output_type": "execute_result",
          "data": {
            "text/plain": [
              "array(['11:20:00', '00:00:00', '8:30:00', '14:00:00', '11:00:00',\n",
              "       '10:00:00', '9:30:00', '9:00:00', '9:40:00', '8:00:00', '6:00:00',\n",
              "       '5:00:00', '7:00:00', '16:00:00', '9:20:00', '00:30:00', '7:50:00',\n",
              "       '13:00:00', '15:00:00', '00:15:00', '00:10:00', '6:10:00',\n",
              "       '7:30:00', '11:12:00', '5:30:00', '11:30:00', '10:30:00',\n",
              "       '6:30:00', '00:12:00', '18:00:00', '13:30:00', '11:15:00',\n",
              "       '4:00:00', '3:00:00', '9:15:00', '1:30:00', '00:05:00', '9:21:00',\n",
              "       '4:30:00', '1:00:00', '11:38:00', '21:00:00', '11:50:00',\n",
              "       '8:45:00', '4:50:00', '9:45:00', '8:50:00', '5:20:00', '8:20:00',\n",
              "       '00:08:00', '6:45:00', '5:15:00', '4:35:00', '7:45:00', '10:20:00',\n",
              "       '00:01:00', '7:38:00', '20:45:00', '4:20:00', '00:09:00',\n",
              "       '9:09:00', '00:37:00', '13:40:00', '11:17:00', '5:45:00',\n",
              "       '10:45:00', '10:10:00', '11:10:00', '11:11:00', '17:00:00',\n",
              "       '7:20:00', '7:15:00', '00:06:00', '13:02:00'], dtype=object)"
            ]
          },
          "metadata": {},
          "execution_count": 18
        }
      ],
      "source": [
        "df['wakeup'].unique()"
      ],
      "id": "5a34e1af"
    },
    {
      "cell_type": "code",
      "source": [
        "def add0(str1):\n",
        "  if int(str1[0]) == 2 and str1[1] != \":\":\n",
        "    return str1\n",
        "  elif int(str1[0])==1 and str1[1] == \":\":\n",
        "     return \"0\"+ str1\n",
        "  elif int(str1[0])>1 and str1[1] == \":\":\n",
        "     return \"0\"+ str1\n",
        "  elif int(str1[0])<1 and str1[1] == \":\":\n",
        "     return \"0\"+ str1\n",
        "  else:\n",
        "     return str1"
      ],
      "metadata": {
        "id": "lNFAVU80J8Xj"
      },
      "id": "lNFAVU80J8Xj",
      "execution_count": null,
      "outputs": []
    },
    {
      "cell_type": "code",
      "source": [
        "def convert_float(str1):\n",
        "  if int(str1[3:5]) >=30:\n",
        "    return int(str1[:2])+1\n",
        "  else:\n",
        "     return int(str1[:2])"
      ],
      "metadata": {
        "id": "wHjR4luZSuWs"
      },
      "id": "wHjR4luZSuWs",
      "execution_count": null,
      "outputs": []
    },
    {
      "cell_type": "code",
      "source": [
        "#add0('23:00:00')\n",
        "#df['wakeup'][3]\n",
        "df['wakeup'] = df['wakeup'].map(lambda x: add0(x))\n",
        "df['breakfast'] = df['breakfast'].map(lambda x: add0(x))\n",
        "df['launch'] = df['launch'].map(lambda x: add0(x))\n",
        "df['dinner'] = df['dinner'].map(lambda x: add0(x))\n",
        "df['sleep'] = df['sleep'].map(lambda x: add0(x))"
      ],
      "metadata": {
        "id": "qHiic1V4MCXo"
      },
      "id": "qHiic1V4MCXo",
      "execution_count": null,
      "outputs": []
    },
    {
      "cell_type": "code",
      "source": [
        "df['breakfast'].unique()"
      ],
      "metadata": {
        "colab": {
          "base_uri": "https://localhost:8080/"
        },
        "id": "AGtVCXctT7xd",
        "outputId": "98801971-d97d-45c1-efc4-3fbcad018bc0"
      },
      "id": "AGtVCXctT7xd",
      "execution_count": null,
      "outputs": [
        {
          "output_type": "execute_result",
          "data": {
            "text/plain": [
              "array(['01:10:00', '00:15:00', '10:00:00', '15:00:00', '11:30:00',\n",
              "       '16:00:00', '11:00:00', '13:00:00', '10:30:00', '11:10:00',\n",
              "       '14:00:00', '00:00:00', '09:15:00', '08:30:00', '09:00:00',\n",
              "       '11:11:00', '07:00:00', '11:20:00', '08:03:00', '09:30:00',\n",
              "       '13:30:00', '00:30:00', '00:11:00', '11:15:00', '14:50:00',\n",
              "       '13:01:00', '06:00:00', '10:15:00', '08:00:00', '14:30:00',\n",
              "       '13:12:00', '09:20:00', '22:00:00', '06:30:00', '09:50:00',\n",
              "       '09:45:00', '22:30:00', '15:07:00', '08:20:00', '01:00:00',\n",
              "       '10:20:00', '11:25:00', '07:30:00', '10:50:00', '09:40:00',\n",
              "       '10:45:00', '08:50:00', '07:45:00', '11:45:00', '00:20:00',\n",
              "       '02:00:00', '09:10:00', '13:03:00', '23:00:00', '14:15:00',\n",
              "       '06:45:00', '23:11:00', '14:45:00', '13:07:00', '10:52:00',\n",
              "       '08:10:00', '23:30:00', '04:45:00', '14:05:00', '17:30:00',\n",
              "       '00:08:00'], dtype=object)"
            ]
          },
          "metadata": {},
          "execution_count": 22
        }
      ]
    },
    {
      "cell_type": "code",
      "source": [
        "import time\n",
        "import datetime\n",
        "from datetime import timedelta\n",
        "#from time import strftime\n",
        "#from time import gmtime\n",
        "\n",
        "#str(datetime.timedelta(seconds=60))\n",
        "def sleep_h(s,w):\n",
        "      if(w.hour <s.hour):\n",
        "        new = w +timedelta(days = 1)\n",
        "        return new-s\n",
        "      else:\n",
        "        return w-s"
      ],
      "metadata": {
        "id": "f7eNX3W8Wi93"
      },
      "id": "f7eNX3W8Wi93",
      "execution_count": null,
      "outputs": []
    },
    {
      "cell_type": "code",
      "source": [
        "i=0\n",
        "li=[]   \n",
        "\n",
        "while(i<len(df.index)):\n",
        "    w= datetime.datetime.strptime(df['wakeup'][i],\"%H:%M:%S\")\n",
        "    s= datetime.datetime.strptime(df['sleep'][i],\"%H:%M:%S\")\n",
        "    #temp= sleep_h(s,w)\n",
        "    #li.append([2,'d'])\n",
        "    li.append(str(sleep_h(s,w)))\n",
        "    #df[\"sleep_hours\"][i]= sleep_h(s,w)\n",
        "    i=i+1\n",
        "df['sleep_hours']=li"
      ],
      "metadata": {
        "id": "rx67LbFVWUL7"
      },
      "id": "rx67LbFVWUL7",
      "execution_count": null,
      "outputs": []
    },
    {
      "cell_type": "code",
      "source": [
        "df['sleep_hours'] = df['sleep_hours'].map(lambda x: add0(x))"
      ],
      "metadata": {
        "id": "Q29_RaqIXFAd"
      },
      "id": "Q29_RaqIXFAd",
      "execution_count": null,
      "outputs": []
    },
    {
      "cell_type": "code",
      "source": [
        "df['sleep_hours'].unique()"
      ],
      "metadata": {
        "colab": {
          "base_uri": "https://localhost:8080/"
        },
        "id": "-gMONp2FXSIn",
        "outputId": "7359b96e-4046-471a-b66d-3e95716525b3"
      },
      "id": "-gMONp2FXSIn",
      "execution_count": null,
      "outputs": [
        {
          "output_type": "execute_result",
          "data": {
            "text/plain": [
              "array(['07:00:00', '20:00:00', '07:30:00', '11:00:00', '04:30:00',\n",
              "       '06:30:00', '08:00:00', '06:00:00', '05:00:00', '07:45:00',\n",
              "       '06:10:00', '08:30:00', '07:10:00', '19:00:00', '03:00:00',\n",
              "       '09:00:00', '04:00:00', '10:00:00', '19:30:00', '07:40:00',\n",
              "       '06:50:00', '21:00:00', '12:00:00', '22:00:00', '20:15:00',\n",
              "       '09:30:00', '00:05:00', '06:20:00', '05:40:00', '05:30:00',\n",
              "       '07:42:00', '20:57:00', '08:40:00', '15:00:00', '17:12:00',\n",
              "       '04:52:00', '00:00:00', '16:00:00', '06:15:00', '18:00:00',\n",
              "       '06:40:00', '05:21:00', '20:30:00', '17:15:00', '06:08:00',\n",
              "       '06:18:00', '03:45:00', '09:20:00', '09:59:00', '21:45:00',\n",
              "       '21:30:00', '07:15:00', '04:05:00', '04:15:00', '07:20:00',\n",
              "       '05:20:00', '23:30:00', '00:08:00', '18:50:00', '21:05:00',\n",
              "       '08:45:00', '18:30:00', '10:30:00', '05:28:00', '03:15:00',\n",
              "       '09:10:00', '03:35:00', '08:20:00', '19:31:00', '06:38:00',\n",
              "       '13:00:00', '03:20:00', '07:35:00', '07:50:00', '09:39:00',\n",
              "       '10:01:00', '09:09:00', '02:00:00', '19:15:00', '17:40:00',\n",
              "       '07:58:00', '05:50:00', '20:37:00', '07:17:00', '18:45:00',\n",
              "       '18:31:00', '17:30:00', '05:02:00', '22:30:00', '03:30:00',\n",
              "       '11:22:00', '05:23:00', '00:36:00', '03:09:00'], dtype=object)"
            ]
          },
          "metadata": {},
          "execution_count": 27
        }
      ]
    },
    {
      "cell_type": "code",
      "source": [
        "df['wakeup'] = df['wakeup'].map(lambda x: convert_float(x))\n",
        "df['breakfast'] = df['breakfast'].map(lambda x: convert_float(x))\n",
        "df['launch'] = df['launch'].map(lambda x: convert_float(x))\n",
        "df['dinner'] = df['dinner'].map(lambda x: convert_float(x))\n",
        "df['sleep'] = df['sleep'].map(lambda x: convert_float(x))\n",
        "df['sleep_hours'] = df['sleep_hours'].map(lambda x: convert_float(x))"
      ],
      "metadata": {
        "id": "rK0nL3byTr6m"
      },
      "id": "rK0nL3byTr6m",
      "execution_count": null,
      "outputs": []
    },
    {
      "cell_type": "code",
      "source": [
        "df['wakeup'].unique()"
      ],
      "metadata": {
        "colab": {
          "base_uri": "https://localhost:8080/"
        },
        "id": "d0-s0SP0M8W8",
        "outputId": "6746c253-b13a-48d1-a43a-73367b2fa042"
      },
      "id": "d0-s0SP0M8W8",
      "execution_count": null,
      "outputs": [
        {
          "output_type": "execute_result",
          "data": {
            "text/plain": [
              "array([11,  0,  9, 14, 10,  8,  6,  5,  7, 16,  1, 13, 15, 12, 18,  4,  3,\n",
              "        2, 21, 17])"
            ]
          },
          "metadata": {},
          "execution_count": 33
        }
      ]
    },
    {
      "cell_type": "code",
      "execution_count": null,
      "metadata": {
        "id": "0093656f",
        "outputId": "1d62dc53-0745-45a4-f8a8-89f3c63351ac",
        "colab": {
          "base_uri": "https://localhost:8080/"
        }
      },
      "outputs": [
        {
          "output_type": "execute_result",
          "data": {
            "text/plain": [
              "array([ 1,  0, 10, 15, 12, 16, 11, 13, 14,  9,  7,  8,  6, 22, 23,  2, 24,\n",
              "        5, 18])"
            ]
          },
          "metadata": {},
          "execution_count": 30
        }
      ],
      "source": [
        "df['breakfast'].unique()"
      ],
      "id": "0093656f"
    },
    {
      "cell_type": "code",
      "execution_count": null,
      "metadata": {
        "id": "600629c6",
        "outputId": "d61fe2d6-e035-43ab-da60-21c4d0ae4d9b",
        "colab": {
          "base_uri": "https://localhost:8080/"
        }
      },
      "outputs": [
        {
          "output_type": "execute_result",
          "data": {
            "text/plain": [
              "array([16, 17, 15, 19,  3, 14, 20,  2,  0, 18, 13,  4,  1,  5,  6, 22])"
            ]
          },
          "metadata": {},
          "execution_count": 731
        }
      ],
      "source": [
        "df['launch'].unique()"
      ],
      "id": "600629c6"
    },
    {
      "cell_type": "code",
      "execution_count": null,
      "metadata": {
        "id": "43fa50ff",
        "outputId": "f9c031b0-d4da-4c5a-9b9d-7ffad9c47a17",
        "colab": {
          "base_uri": "https://localhost:8080/"
        }
      },
      "outputs": [
        {
          "output_type": "execute_result",
          "data": {
            "text/plain": [
              "array([21, 23, 22,  0, 24,  5,  1,  2,  3,  4,  6,  7,  8,  9, 10, 11, 13,\n",
              "       14, 15, 17, 18, 19, 20, 16])"
            ]
          },
          "metadata": {},
          "execution_count": 732
        }
      ],
      "source": [
        "df['dinner'].unique()"
      ],
      "id": "43fa50ff"
    },
    {
      "cell_type": "code",
      "execution_count": null,
      "metadata": {
        "id": "07a6a077",
        "outputId": "2af6b2e0-07e3-4040-e37d-5b0206d015f0",
        "colab": {
          "base_uri": "https://localhost:8080/"
        }
      },
      "outputs": [
        {
          "output_type": "execute_result",
          "data": {
            "text/plain": [
              "array([ 4,  1,  3,  6,  2,  5,  0, 14, 23, 24, 11, 15,  7,  8, 16, 10, 13,\n",
              "       12,  9, 22, 20])"
            ]
          },
          "metadata": {},
          "execution_count": 733
        }
      ],
      "source": [
        "df['sleep'].unique()"
      ],
      "id": "07a6a077"
    },
    {
      "cell_type": "code",
      "execution_count": null,
      "metadata": {
        "id": "3f6231fd",
        "outputId": "2c6c7317-2f25-4be6-8d90-fec4d69f486b",
        "colab": {
          "base_uri": "https://localhost:8080/"
        }
      },
      "outputs": [
        {
          "output_type": "execute_result",
          "data": {
            "text/plain": [
              "0      4\n",
              "1      4\n",
              "2      1\n",
              "3      3\n",
              "4      4\n",
              "      ..\n",
              "749    6\n",
              "750    5\n",
              "751    1\n",
              "752    2\n",
              "753    1\n",
              "Name: sleep, Length: 754, dtype: int64"
            ]
          },
          "metadata": {},
          "execution_count": 734
        }
      ],
      "source": [
        "df['sleep']"
      ],
      "id": "3f6231fd"
    },
    {
      "cell_type": "code",
      "execution_count": null,
      "metadata": {
        "id": "0d2638eb",
        "outputId": "23eaba00-1571-484f-c927-82140e2f017b",
        "colab": {
          "base_uri": "https://localhost:8080/"
        }
      },
      "outputs": [
        {
          "output_type": "execute_result",
          "data": {
            "text/plain": [
              "0      11\n",
              "1       0\n",
              "2       9\n",
              "3      14\n",
              "4      11\n",
              "       ..\n",
              "749     9\n",
              "750     0\n",
              "751     7\n",
              "752    11\n",
              "753     8\n",
              "Name: wakeup, Length: 754, dtype: int64"
            ]
          },
          "metadata": {},
          "execution_count": 735
        }
      ],
      "source": [
        "df['wakeup']"
      ],
      "id": "0d2638eb"
    },
    {
      "cell_type": "code",
      "execution_count": null,
      "metadata": {
        "id": "5228f842",
        "outputId": "a041e21b-e272-4fcf-82cf-cda1495df716",
        "colab": {
          "base_uri": "https://localhost:8080/",
          "height": 334
        }
      },
      "outputs": [
        {
          "output_type": "execute_result",
          "data": {
            "text/plain": [
              "   Unnamed: 0    mood  age  gender          subject semester sibilings  \\\n",
              "0           0  Tensed   24  Female      engineering        9         3   \n",
              "1           1  Tensed   23    Male      engineering       11         3   \n",
              "2           2     Sad   19  Female  bio and medical        3         0   \n",
              "3           3    Lost   23  Female      engineering       13         1   \n",
              "4           4    Lost   22    Male      engineering       11         1   \n",
              "\n",
              "   living  employment  personality  ...  meditation  video_games  study_hours  \\\n",
              "0       0           1            0  ...  Not at all   Not at all            2   \n",
              "1       0           0            1  ...   Sometimes    Sometimes            4   \n",
              "2       0           0            1  ...  Not at all   Not at all            3   \n",
              "3       0           0            2  ...  Not at all   Very Often            1   \n",
              "4       0           0            1  ...  Not at all   Very Often            2   \n",
              "\n",
              "   phone_hours  medication  movies_per_week  music hours  depression  \\\n",
              "0       6 to 8          No                0            0          18   \n",
              "1       0 to 2          No                5            0           1   \n",
              "2       6 to 8          No                0            0          21   \n",
              "3       0 to 2          No                5            0          23   \n",
              "4       6 to 8          No                1            4          19   \n",
              "\n",
              "   category  sleep_hours  \n",
              "0  Moderate            7  \n",
              "1      None           20  \n",
              "2    Severe            8  \n",
              "3    Severe           11  \n",
              "4  Moderate            8  \n",
              "\n",
              "[5 rows x 36 columns]"
            ],
            "text/html": [
              "\n",
              "  <div id=\"df-baa5c77e-97a9-4319-a27a-0796c305046e\">\n",
              "    <div class=\"colab-df-container\">\n",
              "      <div>\n",
              "<style scoped>\n",
              "    .dataframe tbody tr th:only-of-type {\n",
              "        vertical-align: middle;\n",
              "    }\n",
              "\n",
              "    .dataframe tbody tr th {\n",
              "        vertical-align: top;\n",
              "    }\n",
              "\n",
              "    .dataframe thead th {\n",
              "        text-align: right;\n",
              "    }\n",
              "</style>\n",
              "<table border=\"1\" class=\"dataframe\">\n",
              "  <thead>\n",
              "    <tr style=\"text-align: right;\">\n",
              "      <th></th>\n",
              "      <th>Unnamed: 0</th>\n",
              "      <th>mood</th>\n",
              "      <th>age</th>\n",
              "      <th>gender</th>\n",
              "      <th>subject</th>\n",
              "      <th>semester</th>\n",
              "      <th>sibilings</th>\n",
              "      <th>living</th>\n",
              "      <th>employment</th>\n",
              "      <th>personality</th>\n",
              "      <th>...</th>\n",
              "      <th>meditation</th>\n",
              "      <th>video_games</th>\n",
              "      <th>study_hours</th>\n",
              "      <th>phone_hours</th>\n",
              "      <th>medication</th>\n",
              "      <th>movies_per_week</th>\n",
              "      <th>music hours</th>\n",
              "      <th>depression</th>\n",
              "      <th>category</th>\n",
              "      <th>sleep_hours</th>\n",
              "    </tr>\n",
              "  </thead>\n",
              "  <tbody>\n",
              "    <tr>\n",
              "      <th>0</th>\n",
              "      <td>0</td>\n",
              "      <td>Tensed</td>\n",
              "      <td>24</td>\n",
              "      <td>Female</td>\n",
              "      <td>engineering</td>\n",
              "      <td>9</td>\n",
              "      <td>3</td>\n",
              "      <td>0</td>\n",
              "      <td>1</td>\n",
              "      <td>0</td>\n",
              "      <td>...</td>\n",
              "      <td>Not at all</td>\n",
              "      <td>Not at all</td>\n",
              "      <td>2</td>\n",
              "      <td>6 to 8</td>\n",
              "      <td>No</td>\n",
              "      <td>0</td>\n",
              "      <td>0</td>\n",
              "      <td>18</td>\n",
              "      <td>Moderate</td>\n",
              "      <td>7</td>\n",
              "    </tr>\n",
              "    <tr>\n",
              "      <th>1</th>\n",
              "      <td>1</td>\n",
              "      <td>Tensed</td>\n",
              "      <td>23</td>\n",
              "      <td>Male</td>\n",
              "      <td>engineering</td>\n",
              "      <td>11</td>\n",
              "      <td>3</td>\n",
              "      <td>0</td>\n",
              "      <td>0</td>\n",
              "      <td>1</td>\n",
              "      <td>...</td>\n",
              "      <td>Sometimes</td>\n",
              "      <td>Sometimes</td>\n",
              "      <td>4</td>\n",
              "      <td>0 to 2</td>\n",
              "      <td>No</td>\n",
              "      <td>5</td>\n",
              "      <td>0</td>\n",
              "      <td>1</td>\n",
              "      <td>None</td>\n",
              "      <td>20</td>\n",
              "    </tr>\n",
              "    <tr>\n",
              "      <th>2</th>\n",
              "      <td>2</td>\n",
              "      <td>Sad</td>\n",
              "      <td>19</td>\n",
              "      <td>Female</td>\n",
              "      <td>bio and medical</td>\n",
              "      <td>3</td>\n",
              "      <td>0</td>\n",
              "      <td>0</td>\n",
              "      <td>0</td>\n",
              "      <td>1</td>\n",
              "      <td>...</td>\n",
              "      <td>Not at all</td>\n",
              "      <td>Not at all</td>\n",
              "      <td>3</td>\n",
              "      <td>6 to 8</td>\n",
              "      <td>No</td>\n",
              "      <td>0</td>\n",
              "      <td>0</td>\n",
              "      <td>21</td>\n",
              "      <td>Severe</td>\n",
              "      <td>8</td>\n",
              "    </tr>\n",
              "    <tr>\n",
              "      <th>3</th>\n",
              "      <td>3</td>\n",
              "      <td>Lost</td>\n",
              "      <td>23</td>\n",
              "      <td>Female</td>\n",
              "      <td>engineering</td>\n",
              "      <td>13</td>\n",
              "      <td>1</td>\n",
              "      <td>0</td>\n",
              "      <td>0</td>\n",
              "      <td>2</td>\n",
              "      <td>...</td>\n",
              "      <td>Not at all</td>\n",
              "      <td>Very Often</td>\n",
              "      <td>1</td>\n",
              "      <td>0 to 2</td>\n",
              "      <td>No</td>\n",
              "      <td>5</td>\n",
              "      <td>0</td>\n",
              "      <td>23</td>\n",
              "      <td>Severe</td>\n",
              "      <td>11</td>\n",
              "    </tr>\n",
              "    <tr>\n",
              "      <th>4</th>\n",
              "      <td>4</td>\n",
              "      <td>Lost</td>\n",
              "      <td>22</td>\n",
              "      <td>Male</td>\n",
              "      <td>engineering</td>\n",
              "      <td>11</td>\n",
              "      <td>1</td>\n",
              "      <td>0</td>\n",
              "      <td>0</td>\n",
              "      <td>1</td>\n",
              "      <td>...</td>\n",
              "      <td>Not at all</td>\n",
              "      <td>Very Often</td>\n",
              "      <td>2</td>\n",
              "      <td>6 to 8</td>\n",
              "      <td>No</td>\n",
              "      <td>1</td>\n",
              "      <td>4</td>\n",
              "      <td>19</td>\n",
              "      <td>Moderate</td>\n",
              "      <td>8</td>\n",
              "    </tr>\n",
              "  </tbody>\n",
              "</table>\n",
              "<p>5 rows × 36 columns</p>\n",
              "</div>\n",
              "      <button class=\"colab-df-convert\" onclick=\"convertToInteractive('df-baa5c77e-97a9-4319-a27a-0796c305046e')\"\n",
              "              title=\"Convert this dataframe to an interactive table.\"\n",
              "              style=\"display:none;\">\n",
              "        \n",
              "  <svg xmlns=\"http://www.w3.org/2000/svg\" height=\"24px\"viewBox=\"0 0 24 24\"\n",
              "       width=\"24px\">\n",
              "    <path d=\"M0 0h24v24H0V0z\" fill=\"none\"/>\n",
              "    <path d=\"M18.56 5.44l.94 2.06.94-2.06 2.06-.94-2.06-.94-.94-2.06-.94 2.06-2.06.94zm-11 1L8.5 8.5l.94-2.06 2.06-.94-2.06-.94L8.5 2.5l-.94 2.06-2.06.94zm10 10l.94 2.06.94-2.06 2.06-.94-2.06-.94-.94-2.06-.94 2.06-2.06.94z\"/><path d=\"M17.41 7.96l-1.37-1.37c-.4-.4-.92-.59-1.43-.59-.52 0-1.04.2-1.43.59L10.3 9.45l-7.72 7.72c-.78.78-.78 2.05 0 2.83L4 21.41c.39.39.9.59 1.41.59.51 0 1.02-.2 1.41-.59l7.78-7.78 2.81-2.81c.8-.78.8-2.07 0-2.86zM5.41 20L4 18.59l7.72-7.72 1.47 1.35L5.41 20z\"/>\n",
              "  </svg>\n",
              "      </button>\n",
              "      \n",
              "  <style>\n",
              "    .colab-df-container {\n",
              "      display:flex;\n",
              "      flex-wrap:wrap;\n",
              "      gap: 12px;\n",
              "    }\n",
              "\n",
              "    .colab-df-convert {\n",
              "      background-color: #E8F0FE;\n",
              "      border: none;\n",
              "      border-radius: 50%;\n",
              "      cursor: pointer;\n",
              "      display: none;\n",
              "      fill: #1967D2;\n",
              "      height: 32px;\n",
              "      padding: 0 0 0 0;\n",
              "      width: 32px;\n",
              "    }\n",
              "\n",
              "    .colab-df-convert:hover {\n",
              "      background-color: #E2EBFA;\n",
              "      box-shadow: 0px 1px 2px rgba(60, 64, 67, 0.3), 0px 1px 3px 1px rgba(60, 64, 67, 0.15);\n",
              "      fill: #174EA6;\n",
              "    }\n",
              "\n",
              "    [theme=dark] .colab-df-convert {\n",
              "      background-color: #3B4455;\n",
              "      fill: #D2E3FC;\n",
              "    }\n",
              "\n",
              "    [theme=dark] .colab-df-convert:hover {\n",
              "      background-color: #434B5C;\n",
              "      box-shadow: 0px 1px 3px 1px rgba(0, 0, 0, 0.15);\n",
              "      filter: drop-shadow(0px 1px 2px rgba(0, 0, 0, 0.3));\n",
              "      fill: #FFFFFF;\n",
              "    }\n",
              "  </style>\n",
              "\n",
              "      <script>\n",
              "        const buttonEl =\n",
              "          document.querySelector('#df-baa5c77e-97a9-4319-a27a-0796c305046e button.colab-df-convert');\n",
              "        buttonEl.style.display =\n",
              "          google.colab.kernel.accessAllowed ? 'block' : 'none';\n",
              "\n",
              "        async function convertToInteractive(key) {\n",
              "          const element = document.querySelector('#df-baa5c77e-97a9-4319-a27a-0796c305046e');\n",
              "          const dataTable =\n",
              "            await google.colab.kernel.invokeFunction('convertToInteractive',\n",
              "                                                     [key], {});\n",
              "          if (!dataTable) return;\n",
              "\n",
              "          const docLinkHtml = 'Like what you see? Visit the ' +\n",
              "            '<a target=\"_blank\" href=https://colab.research.google.com/notebooks/data_table.ipynb>data table notebook</a>'\n",
              "            + ' to learn more about interactive tables.';\n",
              "          element.innerHTML = '';\n",
              "          dataTable['output_type'] = 'display_data';\n",
              "          await google.colab.output.renderOutput(dataTable, element);\n",
              "          const docLink = document.createElement('div');\n",
              "          docLink.innerHTML = docLinkHtml;\n",
              "          element.appendChild(docLink);\n",
              "        }\n",
              "      </script>\n",
              "    </div>\n",
              "  </div>\n",
              "  "
            ]
          },
          "metadata": {},
          "execution_count": 736
        }
      ],
      "source": [
        "df.head()"
      ],
      "id": "5228f842"
    },
    {
      "cell_type": "code",
      "source": [
        "import pandas as pd;\n",
        "print(\"Starting cleaning process for columns[social_events,pray,sports,exercise,meditation,video_games,study,hours]\")\n",
        "#Reading csv file\n",
        "data = pd.read_csv('depression.csv')\n",
        "\n",
        "#Handling Null values\n",
        "\n",
        "#cleaning strings and converting to lowercase\n",
        "data[\"social_events\"] = data[\"social_events\"].str.strip()\n",
        "data[\"social_events\"] = data[\"social_events\"].str.lower()\n",
        "data[\"video_games\"] = data[\"video_games\"].str.strip()\n",
        "data[\"video_games\"] = data[\"video_games\"].str.lower()\n",
        "data[\"pray\"] = data[\"pray\"].str.strip()\n",
        "data[\"pray\"] = data[\"pray\"].str.lower()\n",
        "data[\"sports\"] = data[\"sports\"].str.strip()\n",
        "data[\"sports\"] = data[\"sports\"].str.lower()\n",
        "data[\"exercise\"] = data[\"exercise\"].str.strip()\n",
        "data[\"exercise\"] = data[\"exercise\"].str.lower()\n",
        "data[\"meditation\"] = data[\"meditation\"].str.strip()\n",
        "data[\"meditation\"] = data[\"meditation\"].str.lower()\n",
        "\n",
        "#Mapping Ordinal data to numeric values\n",
        "social_events_video_games_mapper = {\"not at all\":0, \"sometimes\":1, \"often\":2, \"very often\":3}\n",
        "data[\"social_events\"] = data[\"social_events\"].replace(social_events_video_games_mapper)\n",
        "data[\"video_games\"] = data[\"video_games\"].replace(social_events_video_games_mapper)\n",
        "pray_sports_exercise_meditation_mapper = {\"not at all\":0, \"sometimes\":1, \"regularly\":2}\n",
        "data[\"pray\"] = data[\"pray\"].replace(pray_sports_exercise_meditation_mapper)\n",
        "data[\"sports\"] = data[\"sports\"].replace(pray_sports_exercise_meditation_mapper)\n",
        "data[\"exercise\"] = data[\"exercise\"].replace(pray_sports_exercise_meditation_mapper)\n",
        "data[\"meditation\"] = data[\"meditation\"].replace(pray_sports_exercise_meditation_mapper)\n",
        "\n",
        "\n",
        "print(\"Ending cleaning process for columns[social_events,pray,sports,exercise,meditation,video_games,study,hours]\")"
      ],
      "metadata": {
        "id": "wN8t00esszI8",
        "colab": {
          "base_uri": "https://localhost:8080/"
        },
        "outputId": "5a9ed022-8b53-4edd-907d-fc131b1002c1"
      },
      "id": "wN8t00esszI8",
      "execution_count": null,
      "outputs": [
        {
          "output_type": "stream",
          "name": "stdout",
          "text": [
            "Starting cleaning process for columns[social_events,pray,sports,exercise,meditation,video_games,study,hours]\n",
            "Ending cleaning process for columns[social_events,pray,sports,exercise,meditation,video_games,study,hours]\n"
          ]
        }
      ]
    },
    {
      "cell_type": "code",
      "source": [
        "data.head()"
      ],
      "metadata": {
        "colab": {
          "base_uri": "https://localhost:8080/",
          "height": 403
        },
        "id": "lgpf8UAgQ7sT",
        "outputId": "40695e7b-1e33-47f2-fcce-85944ef0d281"
      },
      "id": "lgpf8UAgQ7sT",
      "execution_count": null,
      "outputs": [
        {
          "output_type": "execute_result",
          "data": {
            "text/plain": [
              "     mood  age  gender      subject  semester  sibilings       living  \\\n",
              "0  Tensed   24  Female  Engineering         9          3  With family   \n",
              "1  Tensed   23    Male  Engineering        11          3  With family   \n",
              "2     Sad   19  Female     Pharmacy         3          0  With family   \n",
              "3    Lost   23  Female  Engineering        13          1  With family   \n",
              "4    Lost   22    Male  Engineering        11          1  With family   \n",
              "\n",
              "  employment personality       relationship  ... exercise meditation  \\\n",
              "0  Part time   Extrovert  In a relationship  ...        0          0   \n",
              "1       None    Ambivert             Single  ...        2          1   \n",
              "2       None    Ambivert             Single  ...        1          0   \n",
              "3       None   Introvert  In a relationship  ...        0          0   \n",
              "4       None    Ambivert             Single  ...        1          0   \n",
              "\n",
              "  video_games study_hours phone_hours medication movies_per_week music hours  \\\n",
              "0           0           2      6 to 8         No               0           0   \n",
              "1           1           4      0 to 2         No               5           0   \n",
              "2           0           3      6 to 8         No               0           0   \n",
              "3           3           1      0 to 2         No               5           0   \n",
              "4           3           2      6 to 8         No               1           4   \n",
              "\n",
              "  depression  category  \n",
              "0         18  Moderate  \n",
              "1          1      None  \n",
              "2         21    Severe  \n",
              "3         23    Severe  \n",
              "4         19  Moderate  \n",
              "\n",
              "[5 rows x 34 columns]"
            ],
            "text/html": [
              "\n",
              "  <div id=\"df-b456096d-45be-4d5f-b503-aadfa724a387\">\n",
              "    <div class=\"colab-df-container\">\n",
              "      <div>\n",
              "<style scoped>\n",
              "    .dataframe tbody tr th:only-of-type {\n",
              "        vertical-align: middle;\n",
              "    }\n",
              "\n",
              "    .dataframe tbody tr th {\n",
              "        vertical-align: top;\n",
              "    }\n",
              "\n",
              "    .dataframe thead th {\n",
              "        text-align: right;\n",
              "    }\n",
              "</style>\n",
              "<table border=\"1\" class=\"dataframe\">\n",
              "  <thead>\n",
              "    <tr style=\"text-align: right;\">\n",
              "      <th></th>\n",
              "      <th>mood</th>\n",
              "      <th>age</th>\n",
              "      <th>gender</th>\n",
              "      <th>subject</th>\n",
              "      <th>semester</th>\n",
              "      <th>sibilings</th>\n",
              "      <th>living</th>\n",
              "      <th>employment</th>\n",
              "      <th>personality</th>\n",
              "      <th>relationship</th>\n",
              "      <th>...</th>\n",
              "      <th>exercise</th>\n",
              "      <th>meditation</th>\n",
              "      <th>video_games</th>\n",
              "      <th>study_hours</th>\n",
              "      <th>phone_hours</th>\n",
              "      <th>medication</th>\n",
              "      <th>movies_per_week</th>\n",
              "      <th>music hours</th>\n",
              "      <th>depression</th>\n",
              "      <th>category</th>\n",
              "    </tr>\n",
              "  </thead>\n",
              "  <tbody>\n",
              "    <tr>\n",
              "      <th>0</th>\n",
              "      <td>Tensed</td>\n",
              "      <td>24</td>\n",
              "      <td>Female</td>\n",
              "      <td>Engineering</td>\n",
              "      <td>9</td>\n",
              "      <td>3</td>\n",
              "      <td>With family</td>\n",
              "      <td>Part time</td>\n",
              "      <td>Extrovert</td>\n",
              "      <td>In a relationship</td>\n",
              "      <td>...</td>\n",
              "      <td>0</td>\n",
              "      <td>0</td>\n",
              "      <td>0</td>\n",
              "      <td>2</td>\n",
              "      <td>6 to 8</td>\n",
              "      <td>No</td>\n",
              "      <td>0</td>\n",
              "      <td>0</td>\n",
              "      <td>18</td>\n",
              "      <td>Moderate</td>\n",
              "    </tr>\n",
              "    <tr>\n",
              "      <th>1</th>\n",
              "      <td>Tensed</td>\n",
              "      <td>23</td>\n",
              "      <td>Male</td>\n",
              "      <td>Engineering</td>\n",
              "      <td>11</td>\n",
              "      <td>3</td>\n",
              "      <td>With family</td>\n",
              "      <td>None</td>\n",
              "      <td>Ambivert</td>\n",
              "      <td>Single</td>\n",
              "      <td>...</td>\n",
              "      <td>2</td>\n",
              "      <td>1</td>\n",
              "      <td>1</td>\n",
              "      <td>4</td>\n",
              "      <td>0 to 2</td>\n",
              "      <td>No</td>\n",
              "      <td>5</td>\n",
              "      <td>0</td>\n",
              "      <td>1</td>\n",
              "      <td>None</td>\n",
              "    </tr>\n",
              "    <tr>\n",
              "      <th>2</th>\n",
              "      <td>Sad</td>\n",
              "      <td>19</td>\n",
              "      <td>Female</td>\n",
              "      <td>Pharmacy</td>\n",
              "      <td>3</td>\n",
              "      <td>0</td>\n",
              "      <td>With family</td>\n",
              "      <td>None</td>\n",
              "      <td>Ambivert</td>\n",
              "      <td>Single</td>\n",
              "      <td>...</td>\n",
              "      <td>1</td>\n",
              "      <td>0</td>\n",
              "      <td>0</td>\n",
              "      <td>3</td>\n",
              "      <td>6 to 8</td>\n",
              "      <td>No</td>\n",
              "      <td>0</td>\n",
              "      <td>0</td>\n",
              "      <td>21</td>\n",
              "      <td>Severe</td>\n",
              "    </tr>\n",
              "    <tr>\n",
              "      <th>3</th>\n",
              "      <td>Lost</td>\n",
              "      <td>23</td>\n",
              "      <td>Female</td>\n",
              "      <td>Engineering</td>\n",
              "      <td>13</td>\n",
              "      <td>1</td>\n",
              "      <td>With family</td>\n",
              "      <td>None</td>\n",
              "      <td>Introvert</td>\n",
              "      <td>In a relationship</td>\n",
              "      <td>...</td>\n",
              "      <td>0</td>\n",
              "      <td>0</td>\n",
              "      <td>3</td>\n",
              "      <td>1</td>\n",
              "      <td>0 to 2</td>\n",
              "      <td>No</td>\n",
              "      <td>5</td>\n",
              "      <td>0</td>\n",
              "      <td>23</td>\n",
              "      <td>Severe</td>\n",
              "    </tr>\n",
              "    <tr>\n",
              "      <th>4</th>\n",
              "      <td>Lost</td>\n",
              "      <td>22</td>\n",
              "      <td>Male</td>\n",
              "      <td>Engineering</td>\n",
              "      <td>11</td>\n",
              "      <td>1</td>\n",
              "      <td>With family</td>\n",
              "      <td>None</td>\n",
              "      <td>Ambivert</td>\n",
              "      <td>Single</td>\n",
              "      <td>...</td>\n",
              "      <td>1</td>\n",
              "      <td>0</td>\n",
              "      <td>3</td>\n",
              "      <td>2</td>\n",
              "      <td>6 to 8</td>\n",
              "      <td>No</td>\n",
              "      <td>1</td>\n",
              "      <td>4</td>\n",
              "      <td>19</td>\n",
              "      <td>Moderate</td>\n",
              "    </tr>\n",
              "  </tbody>\n",
              "</table>\n",
              "<p>5 rows × 34 columns</p>\n",
              "</div>\n",
              "      <button class=\"colab-df-convert\" onclick=\"convertToInteractive('df-b456096d-45be-4d5f-b503-aadfa724a387')\"\n",
              "              title=\"Convert this dataframe to an interactive table.\"\n",
              "              style=\"display:none;\">\n",
              "        \n",
              "  <svg xmlns=\"http://www.w3.org/2000/svg\" height=\"24px\"viewBox=\"0 0 24 24\"\n",
              "       width=\"24px\">\n",
              "    <path d=\"M0 0h24v24H0V0z\" fill=\"none\"/>\n",
              "    <path d=\"M18.56 5.44l.94 2.06.94-2.06 2.06-.94-2.06-.94-.94-2.06-.94 2.06-2.06.94zm-11 1L8.5 8.5l.94-2.06 2.06-.94-2.06-.94L8.5 2.5l-.94 2.06-2.06.94zm10 10l.94 2.06.94-2.06 2.06-.94-2.06-.94-.94-2.06-.94 2.06-2.06.94z\"/><path d=\"M17.41 7.96l-1.37-1.37c-.4-.4-.92-.59-1.43-.59-.52 0-1.04.2-1.43.59L10.3 9.45l-7.72 7.72c-.78.78-.78 2.05 0 2.83L4 21.41c.39.39.9.59 1.41.59.51 0 1.02-.2 1.41-.59l7.78-7.78 2.81-2.81c.8-.78.8-2.07 0-2.86zM5.41 20L4 18.59l7.72-7.72 1.47 1.35L5.41 20z\"/>\n",
              "  </svg>\n",
              "      </button>\n",
              "      \n",
              "  <style>\n",
              "    .colab-df-container {\n",
              "      display:flex;\n",
              "      flex-wrap:wrap;\n",
              "      gap: 12px;\n",
              "    }\n",
              "\n",
              "    .colab-df-convert {\n",
              "      background-color: #E8F0FE;\n",
              "      border: none;\n",
              "      border-radius: 50%;\n",
              "      cursor: pointer;\n",
              "      display: none;\n",
              "      fill: #1967D2;\n",
              "      height: 32px;\n",
              "      padding: 0 0 0 0;\n",
              "      width: 32px;\n",
              "    }\n",
              "\n",
              "    .colab-df-convert:hover {\n",
              "      background-color: #E2EBFA;\n",
              "      box-shadow: 0px 1px 2px rgba(60, 64, 67, 0.3), 0px 1px 3px 1px rgba(60, 64, 67, 0.15);\n",
              "      fill: #174EA6;\n",
              "    }\n",
              "\n",
              "    [theme=dark] .colab-df-convert {\n",
              "      background-color: #3B4455;\n",
              "      fill: #D2E3FC;\n",
              "    }\n",
              "\n",
              "    [theme=dark] .colab-df-convert:hover {\n",
              "      background-color: #434B5C;\n",
              "      box-shadow: 0px 1px 3px 1px rgba(0, 0, 0, 0.15);\n",
              "      filter: drop-shadow(0px 1px 2px rgba(0, 0, 0, 0.3));\n",
              "      fill: #FFFFFF;\n",
              "    }\n",
              "  </style>\n",
              "\n",
              "      <script>\n",
              "        const buttonEl =\n",
              "          document.querySelector('#df-b456096d-45be-4d5f-b503-aadfa724a387 button.colab-df-convert');\n",
              "        buttonEl.style.display =\n",
              "          google.colab.kernel.accessAllowed ? 'block' : 'none';\n",
              "\n",
              "        async function convertToInteractive(key) {\n",
              "          const element = document.querySelector('#df-b456096d-45be-4d5f-b503-aadfa724a387');\n",
              "          const dataTable =\n",
              "            await google.colab.kernel.invokeFunction('convertToInteractive',\n",
              "                                                     [key], {});\n",
              "          if (!dataTable) return;\n",
              "\n",
              "          const docLinkHtml = 'Like what you see? Visit the ' +\n",
              "            '<a target=\"_blank\" href=https://colab.research.google.com/notebooks/data_table.ipynb>data table notebook</a>'\n",
              "            + ' to learn more about interactive tables.';\n",
              "          element.innerHTML = '';\n",
              "          dataTable['output_type'] = 'display_data';\n",
              "          await google.colab.output.renderOutput(dataTable, element);\n",
              "          const docLink = document.createElement('div');\n",
              "          docLink.innerHTML = docLinkHtml;\n",
              "          element.appendChild(docLink);\n",
              "        }\n",
              "      </script>\n",
              "    </div>\n",
              "  </div>\n",
              "  "
            ]
          },
          "metadata": {},
          "execution_count": 738
        }
      ]
    },
    {
      "cell_type": "code",
      "source": [
        "# Data cleaning for the last 6 colomns:\n",
        "# deleting two rows, which include null values in \"medication\":\n",
        "df = df.dropna() \n",
        "# striping white spaces and converting upper cases in lower cases:\n",
        "for col in [\"phone_hours\", \"medication\", \"movies_per_week\", \"category\"]:\n",
        "    df[col] = df[col].str.strip().str.lower()\n",
        "# getting the index of data in the colomn \"movies_per_week\", whose format are not proper and then deleting these datasets:\n",
        "df.index[(df['movies_per_week']==\"5-apr\") | \n",
        "           (df['movies_per_week']== \"4-feb\") | \n",
        "           (df['movies_per_week']==\"don't know\")].tolist()\n",
        "df = df.drop([21,23,25])\n",
        "# changing the value including two numbers into an average: \n",
        "df = df.replace({\"movies_per_week\":{\"1 or 2\":\"1.5\"}})\n",
        "# changing all values from string to integer:\n",
        "df['movies_per_week'].apply(lambda x:int(float(x)))\n"
      ],
      "metadata": {
        "id": "aNfiVhl4rTp0",
        "outputId": "30d071e3-f5b4-40e4-d963-a3cc82c86678",
        "colab": {
          "base_uri": "https://localhost:8080/"
        }
      },
      "id": "aNfiVhl4rTp0",
      "execution_count": null,
      "outputs": [
        {
          "output_type": "stream",
          "name": "stderr",
          "text": [
            "/usr/local/lib/python3.7/dist-packages/ipykernel_launcher.py:6: SettingWithCopyWarning: \n",
            "A value is trying to be set on a copy of a slice from a DataFrame.\n",
            "Try using .loc[row_indexer,col_indexer] = value instead\n",
            "\n",
            "See the caveats in the documentation: https://pandas.pydata.org/pandas-docs/stable/user_guide/indexing.html#returning-a-view-versus-a-copy\n",
            "  \n"
          ]
        },
        {
          "output_type": "execute_result",
          "data": {
            "text/plain": [
              "0      0\n",
              "1      5\n",
              "2      0\n",
              "3      5\n",
              "4      1\n",
              "      ..\n",
              "749    0\n",
              "750    0\n",
              "751    0\n",
              "752    3\n",
              "753    0\n",
              "Name: movies_per_week, Length: 749, dtype: int64"
            ]
          },
          "metadata": {},
          "execution_count": 741
        }
      ]
    }
  ],
  "metadata": {
    "colab": {
      "collapsed_sections": [],
      "name": "“clean_V1.ipynb”的副本",
      "provenance": []
    },
    "kernelspec": {
      "display_name": "Python 3 (ipykernel)",
      "language": "python",
      "name": "python3"
    },
    "language_info": {
      "codemirror_mode": {
        "name": "ipython",
        "version": 3
      },
      "file_extension": ".py",
      "mimetype": "text/x-python",
      "name": "python",
      "nbconvert_exporter": "python",
      "pygments_lexer": "ipython3",
      "version": "3.9.7"
    }
  },
  "nbformat": 4,
  "nbformat_minor": 5
}